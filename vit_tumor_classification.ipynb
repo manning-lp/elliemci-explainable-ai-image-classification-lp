{
  "nbformat": 4,
  "nbformat_minor": 0,
  "metadata": {
    "colab": {
      "provenance": [],
      "gpuType": "T4"
    },
    "kernelspec": {
      "name": "python3",
      "display_name": "Python 3"
    },
    "language_info": {
      "name": "python"
    },
    "widgets": {
      "application/vnd.jupyter.widget-state+json": {
        "3f8467f872f1429086d88950480bfe65": {
          "model_module": "@jupyter-widgets/controls",
          "model_name": "HBoxModel",
          "model_module_version": "1.5.0",
          "state": {
            "_dom_classes": [],
            "_model_module": "@jupyter-widgets/controls",
            "_model_module_version": "1.5.0",
            "_model_name": "HBoxModel",
            "_view_count": null,
            "_view_module": "@jupyter-widgets/controls",
            "_view_module_version": "1.5.0",
            "_view_name": "HBoxView",
            "box_style": "",
            "children": [
              "IPY_MODEL_4ce6f9bf9225435293bd7353a7d1d02e",
              "IPY_MODEL_913732a4d2df4a43bdfa74515ca8f3af",
              "IPY_MODEL_23dd1b6c6a0448fa8ca88dcbe50e0098"
            ],
            "layout": "IPY_MODEL_98f4cd886b7046328613ce6ed701b13b"
          }
        },
        "4ce6f9bf9225435293bd7353a7d1d02e": {
          "model_module": "@jupyter-widgets/controls",
          "model_name": "HTMLModel",
          "model_module_version": "1.5.0",
          "state": {
            "_dom_classes": [],
            "_model_module": "@jupyter-widgets/controls",
            "_model_module_version": "1.5.0",
            "_model_name": "HTMLModel",
            "_view_count": null,
            "_view_module": "@jupyter-widgets/controls",
            "_view_module_version": "1.5.0",
            "_view_name": "HTMLView",
            "description": "",
            "description_tooltip": null,
            "layout": "IPY_MODEL_31e0d5c0db5144f689c1a388ccc8ca6c",
            "placeholder": "​",
            "style": "IPY_MODEL_86db3d61987c477ea66ac8be670832af",
            "value": "Resolving data files: 100%"
          }
        },
        "913732a4d2df4a43bdfa74515ca8f3af": {
          "model_module": "@jupyter-widgets/controls",
          "model_name": "FloatProgressModel",
          "model_module_version": "1.5.0",
          "state": {
            "_dom_classes": [],
            "_model_module": "@jupyter-widgets/controls",
            "_model_module_version": "1.5.0",
            "_model_name": "FloatProgressModel",
            "_view_count": null,
            "_view_module": "@jupyter-widgets/controls",
            "_view_module_version": "1.5.0",
            "_view_name": "ProgressView",
            "bar_style": "success",
            "description": "",
            "description_tooltip": null,
            "layout": "IPY_MODEL_678e89ce09164e98a8241b1d03c74856",
            "max": 2934,
            "min": 0,
            "orientation": "horizontal",
            "style": "IPY_MODEL_465e5bee54f6486385da6557ba65b5b4",
            "value": 2934
          }
        },
        "23dd1b6c6a0448fa8ca88dcbe50e0098": {
          "model_module": "@jupyter-widgets/controls",
          "model_name": "HTMLModel",
          "model_module_version": "1.5.0",
          "state": {
            "_dom_classes": [],
            "_model_module": "@jupyter-widgets/controls",
            "_model_module_version": "1.5.0",
            "_model_name": "HTMLModel",
            "_view_count": null,
            "_view_module": "@jupyter-widgets/controls",
            "_view_module_version": "1.5.0",
            "_view_name": "HTMLView",
            "description": "",
            "description_tooltip": null,
            "layout": "IPY_MODEL_df74aafce14348b0b31d0a3921be040d",
            "placeholder": "​",
            "style": "IPY_MODEL_013e15ddef35461687f5582c159f5c0f",
            "value": " 2934/2934 [00:00&lt;00:00, 3602.16it/s]"
          }
        },
        "98f4cd886b7046328613ce6ed701b13b": {
          "model_module": "@jupyter-widgets/base",
          "model_name": "LayoutModel",
          "model_module_version": "1.2.0",
          "state": {
            "_model_module": "@jupyter-widgets/base",
            "_model_module_version": "1.2.0",
            "_model_name": "LayoutModel",
            "_view_count": null,
            "_view_module": "@jupyter-widgets/base",
            "_view_module_version": "1.2.0",
            "_view_name": "LayoutView",
            "align_content": null,
            "align_items": null,
            "align_self": null,
            "border": null,
            "bottom": null,
            "display": null,
            "flex": null,
            "flex_flow": null,
            "grid_area": null,
            "grid_auto_columns": null,
            "grid_auto_flow": null,
            "grid_auto_rows": null,
            "grid_column": null,
            "grid_gap": null,
            "grid_row": null,
            "grid_template_areas": null,
            "grid_template_columns": null,
            "grid_template_rows": null,
            "height": null,
            "justify_content": null,
            "justify_items": null,
            "left": null,
            "margin": null,
            "max_height": null,
            "max_width": null,
            "min_height": null,
            "min_width": null,
            "object_fit": null,
            "object_position": null,
            "order": null,
            "overflow": null,
            "overflow_x": null,
            "overflow_y": null,
            "padding": null,
            "right": null,
            "top": null,
            "visibility": null,
            "width": null
          }
        },
        "31e0d5c0db5144f689c1a388ccc8ca6c": {
          "model_module": "@jupyter-widgets/base",
          "model_name": "LayoutModel",
          "model_module_version": "1.2.0",
          "state": {
            "_model_module": "@jupyter-widgets/base",
            "_model_module_version": "1.2.0",
            "_model_name": "LayoutModel",
            "_view_count": null,
            "_view_module": "@jupyter-widgets/base",
            "_view_module_version": "1.2.0",
            "_view_name": "LayoutView",
            "align_content": null,
            "align_items": null,
            "align_self": null,
            "border": null,
            "bottom": null,
            "display": null,
            "flex": null,
            "flex_flow": null,
            "grid_area": null,
            "grid_auto_columns": null,
            "grid_auto_flow": null,
            "grid_auto_rows": null,
            "grid_column": null,
            "grid_gap": null,
            "grid_row": null,
            "grid_template_areas": null,
            "grid_template_columns": null,
            "grid_template_rows": null,
            "height": null,
            "justify_content": null,
            "justify_items": null,
            "left": null,
            "margin": null,
            "max_height": null,
            "max_width": null,
            "min_height": null,
            "min_width": null,
            "object_fit": null,
            "object_position": null,
            "order": null,
            "overflow": null,
            "overflow_x": null,
            "overflow_y": null,
            "padding": null,
            "right": null,
            "top": null,
            "visibility": null,
            "width": null
          }
        },
        "86db3d61987c477ea66ac8be670832af": {
          "model_module": "@jupyter-widgets/controls",
          "model_name": "DescriptionStyleModel",
          "model_module_version": "1.5.0",
          "state": {
            "_model_module": "@jupyter-widgets/controls",
            "_model_module_version": "1.5.0",
            "_model_name": "DescriptionStyleModel",
            "_view_count": null,
            "_view_module": "@jupyter-widgets/base",
            "_view_module_version": "1.2.0",
            "_view_name": "StyleView",
            "description_width": ""
          }
        },
        "678e89ce09164e98a8241b1d03c74856": {
          "model_module": "@jupyter-widgets/base",
          "model_name": "LayoutModel",
          "model_module_version": "1.2.0",
          "state": {
            "_model_module": "@jupyter-widgets/base",
            "_model_module_version": "1.2.0",
            "_model_name": "LayoutModel",
            "_view_count": null,
            "_view_module": "@jupyter-widgets/base",
            "_view_module_version": "1.2.0",
            "_view_name": "LayoutView",
            "align_content": null,
            "align_items": null,
            "align_self": null,
            "border": null,
            "bottom": null,
            "display": null,
            "flex": null,
            "flex_flow": null,
            "grid_area": null,
            "grid_auto_columns": null,
            "grid_auto_flow": null,
            "grid_auto_rows": null,
            "grid_column": null,
            "grid_gap": null,
            "grid_row": null,
            "grid_template_areas": null,
            "grid_template_columns": null,
            "grid_template_rows": null,
            "height": null,
            "justify_content": null,
            "justify_items": null,
            "left": null,
            "margin": null,
            "max_height": null,
            "max_width": null,
            "min_height": null,
            "min_width": null,
            "object_fit": null,
            "object_position": null,
            "order": null,
            "overflow": null,
            "overflow_x": null,
            "overflow_y": null,
            "padding": null,
            "right": null,
            "top": null,
            "visibility": null,
            "width": null
          }
        },
        "465e5bee54f6486385da6557ba65b5b4": {
          "model_module": "@jupyter-widgets/controls",
          "model_name": "ProgressStyleModel",
          "model_module_version": "1.5.0",
          "state": {
            "_model_module": "@jupyter-widgets/controls",
            "_model_module_version": "1.5.0",
            "_model_name": "ProgressStyleModel",
            "_view_count": null,
            "_view_module": "@jupyter-widgets/base",
            "_view_module_version": "1.2.0",
            "_view_name": "StyleView",
            "bar_color": null,
            "description_width": ""
          }
        },
        "df74aafce14348b0b31d0a3921be040d": {
          "model_module": "@jupyter-widgets/base",
          "model_name": "LayoutModel",
          "model_module_version": "1.2.0",
          "state": {
            "_model_module": "@jupyter-widgets/base",
            "_model_module_version": "1.2.0",
            "_model_name": "LayoutModel",
            "_view_count": null,
            "_view_module": "@jupyter-widgets/base",
            "_view_module_version": "1.2.0",
            "_view_name": "LayoutView",
            "align_content": null,
            "align_items": null,
            "align_self": null,
            "border": null,
            "bottom": null,
            "display": null,
            "flex": null,
            "flex_flow": null,
            "grid_area": null,
            "grid_auto_columns": null,
            "grid_auto_flow": null,
            "grid_auto_rows": null,
            "grid_column": null,
            "grid_gap": null,
            "grid_row": null,
            "grid_template_areas": null,
            "grid_template_columns": null,
            "grid_template_rows": null,
            "height": null,
            "justify_content": null,
            "justify_items": null,
            "left": null,
            "margin": null,
            "max_height": null,
            "max_width": null,
            "min_height": null,
            "min_width": null,
            "object_fit": null,
            "object_position": null,
            "order": null,
            "overflow": null,
            "overflow_x": null,
            "overflow_y": null,
            "padding": null,
            "right": null,
            "top": null,
            "visibility": null,
            "width": null
          }
        },
        "013e15ddef35461687f5582c159f5c0f": {
          "model_module": "@jupyter-widgets/controls",
          "model_name": "DescriptionStyleModel",
          "model_module_version": "1.5.0",
          "state": {
            "_model_module": "@jupyter-widgets/controls",
            "_model_module_version": "1.5.0",
            "_model_name": "DescriptionStyleModel",
            "_view_count": null,
            "_view_module": "@jupyter-widgets/base",
            "_view_module_version": "1.2.0",
            "_view_name": "StyleView",
            "description_width": ""
          }
        },
        "23aa0cd2e8d1447ea9e045db11d76502": {
          "model_module": "@jupyter-widgets/controls",
          "model_name": "HBoxModel",
          "model_module_version": "1.5.0",
          "state": {
            "_dom_classes": [],
            "_model_module": "@jupyter-widgets/controls",
            "_model_module_version": "1.5.0",
            "_model_name": "HBoxModel",
            "_view_count": null,
            "_view_module": "@jupyter-widgets/controls",
            "_view_module_version": "1.5.0",
            "_view_name": "HBoxView",
            "box_style": "",
            "children": [
              "IPY_MODEL_bcabd396ca4c4c68976a2c4a693a415d",
              "IPY_MODEL_96e6b286902e4988987630bf9f6f390b",
              "IPY_MODEL_e7c0a87ed64747489d82fa6b03da8517"
            ],
            "layout": "IPY_MODEL_1094afdd10fd4a9d8e9f5cb116524778"
          }
        },
        "bcabd396ca4c4c68976a2c4a693a415d": {
          "model_module": "@jupyter-widgets/controls",
          "model_name": "HTMLModel",
          "model_module_version": "1.5.0",
          "state": {
            "_dom_classes": [],
            "_model_module": "@jupyter-widgets/controls",
            "_model_module_version": "1.5.0",
            "_model_name": "HTMLModel",
            "_view_count": null,
            "_view_module": "@jupyter-widgets/controls",
            "_view_module_version": "1.5.0",
            "_view_name": "HTMLView",
            "description": "",
            "description_tooltip": null,
            "layout": "IPY_MODEL_70315f18c8f14311873b0f347a288c06",
            "placeholder": "​",
            "style": "IPY_MODEL_c2ae26da7045415a91c9ca35c0c8155c",
            "value": "Resolving data files: 100%"
          }
        },
        "96e6b286902e4988987630bf9f6f390b": {
          "model_module": "@jupyter-widgets/controls",
          "model_name": "FloatProgressModel",
          "model_module_version": "1.5.0",
          "state": {
            "_dom_classes": [],
            "_model_module": "@jupyter-widgets/controls",
            "_model_module_version": "1.5.0",
            "_model_name": "FloatProgressModel",
            "_view_count": null,
            "_view_module": "@jupyter-widgets/controls",
            "_view_module_version": "1.5.0",
            "_view_name": "ProgressView",
            "bar_style": "success",
            "description": "",
            "description_tooltip": null,
            "layout": "IPY_MODEL_f1badca4fffd4cb48f2bdedaac3bf5ae",
            "max": 711,
            "min": 0,
            "orientation": "horizontal",
            "style": "IPY_MODEL_90441b5de7d34825a8b1e5d54b7ac669",
            "value": 711
          }
        },
        "e7c0a87ed64747489d82fa6b03da8517": {
          "model_module": "@jupyter-widgets/controls",
          "model_name": "HTMLModel",
          "model_module_version": "1.5.0",
          "state": {
            "_dom_classes": [],
            "_model_module": "@jupyter-widgets/controls",
            "_model_module_version": "1.5.0",
            "_model_name": "HTMLModel",
            "_view_count": null,
            "_view_module": "@jupyter-widgets/controls",
            "_view_module_version": "1.5.0",
            "_view_name": "HTMLView",
            "description": "",
            "description_tooltip": null,
            "layout": "IPY_MODEL_2c13a067150549cc846ac14fa27ec02a",
            "placeholder": "​",
            "style": "IPY_MODEL_e278ce17673f42b2aff7bd1c2084cc0f",
            "value": " 711/711 [00:00&lt;00:00, 4016.54it/s]"
          }
        },
        "1094afdd10fd4a9d8e9f5cb116524778": {
          "model_module": "@jupyter-widgets/base",
          "model_name": "LayoutModel",
          "model_module_version": "1.2.0",
          "state": {
            "_model_module": "@jupyter-widgets/base",
            "_model_module_version": "1.2.0",
            "_model_name": "LayoutModel",
            "_view_count": null,
            "_view_module": "@jupyter-widgets/base",
            "_view_module_version": "1.2.0",
            "_view_name": "LayoutView",
            "align_content": null,
            "align_items": null,
            "align_self": null,
            "border": null,
            "bottom": null,
            "display": null,
            "flex": null,
            "flex_flow": null,
            "grid_area": null,
            "grid_auto_columns": null,
            "grid_auto_flow": null,
            "grid_auto_rows": null,
            "grid_column": null,
            "grid_gap": null,
            "grid_row": null,
            "grid_template_areas": null,
            "grid_template_columns": null,
            "grid_template_rows": null,
            "height": null,
            "justify_content": null,
            "justify_items": null,
            "left": null,
            "margin": null,
            "max_height": null,
            "max_width": null,
            "min_height": null,
            "min_width": null,
            "object_fit": null,
            "object_position": null,
            "order": null,
            "overflow": null,
            "overflow_x": null,
            "overflow_y": null,
            "padding": null,
            "right": null,
            "top": null,
            "visibility": null,
            "width": null
          }
        },
        "70315f18c8f14311873b0f347a288c06": {
          "model_module": "@jupyter-widgets/base",
          "model_name": "LayoutModel",
          "model_module_version": "1.2.0",
          "state": {
            "_model_module": "@jupyter-widgets/base",
            "_model_module_version": "1.2.0",
            "_model_name": "LayoutModel",
            "_view_count": null,
            "_view_module": "@jupyter-widgets/base",
            "_view_module_version": "1.2.0",
            "_view_name": "LayoutView",
            "align_content": null,
            "align_items": null,
            "align_self": null,
            "border": null,
            "bottom": null,
            "display": null,
            "flex": null,
            "flex_flow": null,
            "grid_area": null,
            "grid_auto_columns": null,
            "grid_auto_flow": null,
            "grid_auto_rows": null,
            "grid_column": null,
            "grid_gap": null,
            "grid_row": null,
            "grid_template_areas": null,
            "grid_template_columns": null,
            "grid_template_rows": null,
            "height": null,
            "justify_content": null,
            "justify_items": null,
            "left": null,
            "margin": null,
            "max_height": null,
            "max_width": null,
            "min_height": null,
            "min_width": null,
            "object_fit": null,
            "object_position": null,
            "order": null,
            "overflow": null,
            "overflow_x": null,
            "overflow_y": null,
            "padding": null,
            "right": null,
            "top": null,
            "visibility": null,
            "width": null
          }
        },
        "c2ae26da7045415a91c9ca35c0c8155c": {
          "model_module": "@jupyter-widgets/controls",
          "model_name": "DescriptionStyleModel",
          "model_module_version": "1.5.0",
          "state": {
            "_model_module": "@jupyter-widgets/controls",
            "_model_module_version": "1.5.0",
            "_model_name": "DescriptionStyleModel",
            "_view_count": null,
            "_view_module": "@jupyter-widgets/base",
            "_view_module_version": "1.2.0",
            "_view_name": "StyleView",
            "description_width": ""
          }
        },
        "f1badca4fffd4cb48f2bdedaac3bf5ae": {
          "model_module": "@jupyter-widgets/base",
          "model_name": "LayoutModel",
          "model_module_version": "1.2.0",
          "state": {
            "_model_module": "@jupyter-widgets/base",
            "_model_module_version": "1.2.0",
            "_model_name": "LayoutModel",
            "_view_count": null,
            "_view_module": "@jupyter-widgets/base",
            "_view_module_version": "1.2.0",
            "_view_name": "LayoutView",
            "align_content": null,
            "align_items": null,
            "align_self": null,
            "border": null,
            "bottom": null,
            "display": null,
            "flex": null,
            "flex_flow": null,
            "grid_area": null,
            "grid_auto_columns": null,
            "grid_auto_flow": null,
            "grid_auto_rows": null,
            "grid_column": null,
            "grid_gap": null,
            "grid_row": null,
            "grid_template_areas": null,
            "grid_template_columns": null,
            "grid_template_rows": null,
            "height": null,
            "justify_content": null,
            "justify_items": null,
            "left": null,
            "margin": null,
            "max_height": null,
            "max_width": null,
            "min_height": null,
            "min_width": null,
            "object_fit": null,
            "object_position": null,
            "order": null,
            "overflow": null,
            "overflow_x": null,
            "overflow_y": null,
            "padding": null,
            "right": null,
            "top": null,
            "visibility": null,
            "width": null
          }
        },
        "90441b5de7d34825a8b1e5d54b7ac669": {
          "model_module": "@jupyter-widgets/controls",
          "model_name": "ProgressStyleModel",
          "model_module_version": "1.5.0",
          "state": {
            "_model_module": "@jupyter-widgets/controls",
            "_model_module_version": "1.5.0",
            "_model_name": "ProgressStyleModel",
            "_view_count": null,
            "_view_module": "@jupyter-widgets/base",
            "_view_module_version": "1.2.0",
            "_view_name": "StyleView",
            "bar_color": null,
            "description_width": ""
          }
        },
        "2c13a067150549cc846ac14fa27ec02a": {
          "model_module": "@jupyter-widgets/base",
          "model_name": "LayoutModel",
          "model_module_version": "1.2.0",
          "state": {
            "_model_module": "@jupyter-widgets/base",
            "_model_module_version": "1.2.0",
            "_model_name": "LayoutModel",
            "_view_count": null,
            "_view_module": "@jupyter-widgets/base",
            "_view_module_version": "1.2.0",
            "_view_name": "LayoutView",
            "align_content": null,
            "align_items": null,
            "align_self": null,
            "border": null,
            "bottom": null,
            "display": null,
            "flex": null,
            "flex_flow": null,
            "grid_area": null,
            "grid_auto_columns": null,
            "grid_auto_flow": null,
            "grid_auto_rows": null,
            "grid_column": null,
            "grid_gap": null,
            "grid_row": null,
            "grid_template_areas": null,
            "grid_template_columns": null,
            "grid_template_rows": null,
            "height": null,
            "justify_content": null,
            "justify_items": null,
            "left": null,
            "margin": null,
            "max_height": null,
            "max_width": null,
            "min_height": null,
            "min_width": null,
            "object_fit": null,
            "object_position": null,
            "order": null,
            "overflow": null,
            "overflow_x": null,
            "overflow_y": null,
            "padding": null,
            "right": null,
            "top": null,
            "visibility": null,
            "width": null
          }
        },
        "e278ce17673f42b2aff7bd1c2084cc0f": {
          "model_module": "@jupyter-widgets/controls",
          "model_name": "DescriptionStyleModel",
          "model_module_version": "1.5.0",
          "state": {
            "_model_module": "@jupyter-widgets/controls",
            "_model_module_version": "1.5.0",
            "_model_name": "DescriptionStyleModel",
            "_view_count": null,
            "_view_module": "@jupyter-widgets/base",
            "_view_module_version": "1.2.0",
            "_view_name": "StyleView",
            "description_width": ""
          }
        },
        "a167aa8bbe0c4292b1b692bd392929e5": {
          "model_module": "@jupyter-widgets/controls",
          "model_name": "HBoxModel",
          "model_module_version": "1.5.0",
          "state": {
            "_dom_classes": [],
            "_model_module": "@jupyter-widgets/controls",
            "_model_module_version": "1.5.0",
            "_model_name": "HBoxModel",
            "_view_count": null,
            "_view_module": "@jupyter-widgets/controls",
            "_view_module_version": "1.5.0",
            "_view_name": "HBoxView",
            "box_style": "",
            "children": [
              "IPY_MODEL_659b50637c0c4644a93f52878ae2a583",
              "IPY_MODEL_d4fab820c9884821b6a2703b50b86ca1",
              "IPY_MODEL_5e6b5e4b100f47e7bcba4f851e1c3d3e"
            ],
            "layout": "IPY_MODEL_16268955a4f44fcd8c59293e133c5254"
          }
        },
        "659b50637c0c4644a93f52878ae2a583": {
          "model_module": "@jupyter-widgets/controls",
          "model_name": "HTMLModel",
          "model_module_version": "1.5.0",
          "state": {
            "_dom_classes": [],
            "_model_module": "@jupyter-widgets/controls",
            "_model_module_version": "1.5.0",
            "_model_name": "HTMLModel",
            "_view_count": null,
            "_view_module": "@jupyter-widgets/controls",
            "_view_module_version": "1.5.0",
            "_view_name": "HTMLView",
            "description": "",
            "description_tooltip": null,
            "layout": "IPY_MODEL_ffb78b01c5804ddd8200569d483012ba",
            "placeholder": "​",
            "style": "IPY_MODEL_61695bcb1d6b4faeba1b27bac289a60a",
            "value": "Downloading data: 100%"
          }
        },
        "d4fab820c9884821b6a2703b50b86ca1": {
          "model_module": "@jupyter-widgets/controls",
          "model_name": "FloatProgressModel",
          "model_module_version": "1.5.0",
          "state": {
            "_dom_classes": [],
            "_model_module": "@jupyter-widgets/controls",
            "_model_module_version": "1.5.0",
            "_model_name": "FloatProgressModel",
            "_view_count": null,
            "_view_module": "@jupyter-widgets/controls",
            "_view_module_version": "1.5.0",
            "_view_name": "ProgressView",
            "bar_style": "success",
            "description": "",
            "description_tooltip": null,
            "layout": "IPY_MODEL_bf6b5712faea42dd88b6e9315e1e26f6",
            "max": 2934,
            "min": 0,
            "orientation": "horizontal",
            "style": "IPY_MODEL_dfd966271521475fb13c4f698b4b5df1",
            "value": 2934
          }
        },
        "5e6b5e4b100f47e7bcba4f851e1c3d3e": {
          "model_module": "@jupyter-widgets/controls",
          "model_name": "HTMLModel",
          "model_module_version": "1.5.0",
          "state": {
            "_dom_classes": [],
            "_model_module": "@jupyter-widgets/controls",
            "_model_module_version": "1.5.0",
            "_model_name": "HTMLModel",
            "_view_count": null,
            "_view_module": "@jupyter-widgets/controls",
            "_view_module_version": "1.5.0",
            "_view_name": "HTMLView",
            "description": "",
            "description_tooltip": null,
            "layout": "IPY_MODEL_f014385279124fa88ea8549de3c4c485",
            "placeholder": "​",
            "style": "IPY_MODEL_eab74a68d747491b9a780a4de045a023",
            "value": " 2934/2934 [00:00&lt;00:00, 4043.29files/s]"
          }
        },
        "16268955a4f44fcd8c59293e133c5254": {
          "model_module": "@jupyter-widgets/base",
          "model_name": "LayoutModel",
          "model_module_version": "1.2.0",
          "state": {
            "_model_module": "@jupyter-widgets/base",
            "_model_module_version": "1.2.0",
            "_model_name": "LayoutModel",
            "_view_count": null,
            "_view_module": "@jupyter-widgets/base",
            "_view_module_version": "1.2.0",
            "_view_name": "LayoutView",
            "align_content": null,
            "align_items": null,
            "align_self": null,
            "border": null,
            "bottom": null,
            "display": null,
            "flex": null,
            "flex_flow": null,
            "grid_area": null,
            "grid_auto_columns": null,
            "grid_auto_flow": null,
            "grid_auto_rows": null,
            "grid_column": null,
            "grid_gap": null,
            "grid_row": null,
            "grid_template_areas": null,
            "grid_template_columns": null,
            "grid_template_rows": null,
            "height": null,
            "justify_content": null,
            "justify_items": null,
            "left": null,
            "margin": null,
            "max_height": null,
            "max_width": null,
            "min_height": null,
            "min_width": null,
            "object_fit": null,
            "object_position": null,
            "order": null,
            "overflow": null,
            "overflow_x": null,
            "overflow_y": null,
            "padding": null,
            "right": null,
            "top": null,
            "visibility": null,
            "width": null
          }
        },
        "ffb78b01c5804ddd8200569d483012ba": {
          "model_module": "@jupyter-widgets/base",
          "model_name": "LayoutModel",
          "model_module_version": "1.2.0",
          "state": {
            "_model_module": "@jupyter-widgets/base",
            "_model_module_version": "1.2.0",
            "_model_name": "LayoutModel",
            "_view_count": null,
            "_view_module": "@jupyter-widgets/base",
            "_view_module_version": "1.2.0",
            "_view_name": "LayoutView",
            "align_content": null,
            "align_items": null,
            "align_self": null,
            "border": null,
            "bottom": null,
            "display": null,
            "flex": null,
            "flex_flow": null,
            "grid_area": null,
            "grid_auto_columns": null,
            "grid_auto_flow": null,
            "grid_auto_rows": null,
            "grid_column": null,
            "grid_gap": null,
            "grid_row": null,
            "grid_template_areas": null,
            "grid_template_columns": null,
            "grid_template_rows": null,
            "height": null,
            "justify_content": null,
            "justify_items": null,
            "left": null,
            "margin": null,
            "max_height": null,
            "max_width": null,
            "min_height": null,
            "min_width": null,
            "object_fit": null,
            "object_position": null,
            "order": null,
            "overflow": null,
            "overflow_x": null,
            "overflow_y": null,
            "padding": null,
            "right": null,
            "top": null,
            "visibility": null,
            "width": null
          }
        },
        "61695bcb1d6b4faeba1b27bac289a60a": {
          "model_module": "@jupyter-widgets/controls",
          "model_name": "DescriptionStyleModel",
          "model_module_version": "1.5.0",
          "state": {
            "_model_module": "@jupyter-widgets/controls",
            "_model_module_version": "1.5.0",
            "_model_name": "DescriptionStyleModel",
            "_view_count": null,
            "_view_module": "@jupyter-widgets/base",
            "_view_module_version": "1.2.0",
            "_view_name": "StyleView",
            "description_width": ""
          }
        },
        "bf6b5712faea42dd88b6e9315e1e26f6": {
          "model_module": "@jupyter-widgets/base",
          "model_name": "LayoutModel",
          "model_module_version": "1.2.0",
          "state": {
            "_model_module": "@jupyter-widgets/base",
            "_model_module_version": "1.2.0",
            "_model_name": "LayoutModel",
            "_view_count": null,
            "_view_module": "@jupyter-widgets/base",
            "_view_module_version": "1.2.0",
            "_view_name": "LayoutView",
            "align_content": null,
            "align_items": null,
            "align_self": null,
            "border": null,
            "bottom": null,
            "display": null,
            "flex": null,
            "flex_flow": null,
            "grid_area": null,
            "grid_auto_columns": null,
            "grid_auto_flow": null,
            "grid_auto_rows": null,
            "grid_column": null,
            "grid_gap": null,
            "grid_row": null,
            "grid_template_areas": null,
            "grid_template_columns": null,
            "grid_template_rows": null,
            "height": null,
            "justify_content": null,
            "justify_items": null,
            "left": null,
            "margin": null,
            "max_height": null,
            "max_width": null,
            "min_height": null,
            "min_width": null,
            "object_fit": null,
            "object_position": null,
            "order": null,
            "overflow": null,
            "overflow_x": null,
            "overflow_y": null,
            "padding": null,
            "right": null,
            "top": null,
            "visibility": null,
            "width": null
          }
        },
        "dfd966271521475fb13c4f698b4b5df1": {
          "model_module": "@jupyter-widgets/controls",
          "model_name": "ProgressStyleModel",
          "model_module_version": "1.5.0",
          "state": {
            "_model_module": "@jupyter-widgets/controls",
            "_model_module_version": "1.5.0",
            "_model_name": "ProgressStyleModel",
            "_view_count": null,
            "_view_module": "@jupyter-widgets/base",
            "_view_module_version": "1.2.0",
            "_view_name": "StyleView",
            "bar_color": null,
            "description_width": ""
          }
        },
        "f014385279124fa88ea8549de3c4c485": {
          "model_module": "@jupyter-widgets/base",
          "model_name": "LayoutModel",
          "model_module_version": "1.2.0",
          "state": {
            "_model_module": "@jupyter-widgets/base",
            "_model_module_version": "1.2.0",
            "_model_name": "LayoutModel",
            "_view_count": null,
            "_view_module": "@jupyter-widgets/base",
            "_view_module_version": "1.2.0",
            "_view_name": "LayoutView",
            "align_content": null,
            "align_items": null,
            "align_self": null,
            "border": null,
            "bottom": null,
            "display": null,
            "flex": null,
            "flex_flow": null,
            "grid_area": null,
            "grid_auto_columns": null,
            "grid_auto_flow": null,
            "grid_auto_rows": null,
            "grid_column": null,
            "grid_gap": null,
            "grid_row": null,
            "grid_template_areas": null,
            "grid_template_columns": null,
            "grid_template_rows": null,
            "height": null,
            "justify_content": null,
            "justify_items": null,
            "left": null,
            "margin": null,
            "max_height": null,
            "max_width": null,
            "min_height": null,
            "min_width": null,
            "object_fit": null,
            "object_position": null,
            "order": null,
            "overflow": null,
            "overflow_x": null,
            "overflow_y": null,
            "padding": null,
            "right": null,
            "top": null,
            "visibility": null,
            "width": null
          }
        },
        "eab74a68d747491b9a780a4de045a023": {
          "model_module": "@jupyter-widgets/controls",
          "model_name": "DescriptionStyleModel",
          "model_module_version": "1.5.0",
          "state": {
            "_model_module": "@jupyter-widgets/controls",
            "_model_module_version": "1.5.0",
            "_model_name": "DescriptionStyleModel",
            "_view_count": null,
            "_view_module": "@jupyter-widgets/base",
            "_view_module_version": "1.2.0",
            "_view_name": "StyleView",
            "description_width": ""
          }
        },
        "55086d547e22406381045af2356112e3": {
          "model_module": "@jupyter-widgets/controls",
          "model_name": "HBoxModel",
          "model_module_version": "1.5.0",
          "state": {
            "_dom_classes": [],
            "_model_module": "@jupyter-widgets/controls",
            "_model_module_version": "1.5.0",
            "_model_name": "HBoxModel",
            "_view_count": null,
            "_view_module": "@jupyter-widgets/controls",
            "_view_module_version": "1.5.0",
            "_view_name": "HBoxView",
            "box_style": "",
            "children": [
              "IPY_MODEL_0f06aa0a1076411ea71f0b20eaf6822d",
              "IPY_MODEL_777960a43d1f4274af1a37cdb0f7c97f",
              "IPY_MODEL_925066e0871148eba9e5fdea2ccccae5"
            ],
            "layout": "IPY_MODEL_ab93528717b34db694f3a16adbb5a5db"
          }
        },
        "0f06aa0a1076411ea71f0b20eaf6822d": {
          "model_module": "@jupyter-widgets/controls",
          "model_name": "HTMLModel",
          "model_module_version": "1.5.0",
          "state": {
            "_dom_classes": [],
            "_model_module": "@jupyter-widgets/controls",
            "_model_module_version": "1.5.0",
            "_model_name": "HTMLModel",
            "_view_count": null,
            "_view_module": "@jupyter-widgets/controls",
            "_view_module_version": "1.5.0",
            "_view_name": "HTMLView",
            "description": "",
            "description_tooltip": null,
            "layout": "IPY_MODEL_97ab28269afc439f8b447d13e72c63ca",
            "placeholder": "​",
            "style": "IPY_MODEL_218a171cd213463f9b93d395df504219",
            "value": "Downloading data: 100%"
          }
        },
        "777960a43d1f4274af1a37cdb0f7c97f": {
          "model_module": "@jupyter-widgets/controls",
          "model_name": "FloatProgressModel",
          "model_module_version": "1.5.0",
          "state": {
            "_dom_classes": [],
            "_model_module": "@jupyter-widgets/controls",
            "_model_module_version": "1.5.0",
            "_model_name": "FloatProgressModel",
            "_view_count": null,
            "_view_module": "@jupyter-widgets/controls",
            "_view_module_version": "1.5.0",
            "_view_name": "ProgressView",
            "bar_style": "success",
            "description": "",
            "description_tooltip": null,
            "layout": "IPY_MODEL_5d6782a16468488da8c822aa261f899d",
            "max": 711,
            "min": 0,
            "orientation": "horizontal",
            "style": "IPY_MODEL_063e1f2f41d04bc6b61fa91e23cf4007",
            "value": 711
          }
        },
        "925066e0871148eba9e5fdea2ccccae5": {
          "model_module": "@jupyter-widgets/controls",
          "model_name": "HTMLModel",
          "model_module_version": "1.5.0",
          "state": {
            "_dom_classes": [],
            "_model_module": "@jupyter-widgets/controls",
            "_model_module_version": "1.5.0",
            "_model_name": "HTMLModel",
            "_view_count": null,
            "_view_module": "@jupyter-widgets/controls",
            "_view_module_version": "1.5.0",
            "_view_name": "HTMLView",
            "description": "",
            "description_tooltip": null,
            "layout": "IPY_MODEL_5551eadd66b041ba8bc9bf43afce5233",
            "placeholder": "​",
            "style": "IPY_MODEL_10206b56ba1e47f1a68750d88c2f8117",
            "value": " 711/711 [00:00&lt;00:00, 4590.52files/s]"
          }
        },
        "ab93528717b34db694f3a16adbb5a5db": {
          "model_module": "@jupyter-widgets/base",
          "model_name": "LayoutModel",
          "model_module_version": "1.2.0",
          "state": {
            "_model_module": "@jupyter-widgets/base",
            "_model_module_version": "1.2.0",
            "_model_name": "LayoutModel",
            "_view_count": null,
            "_view_module": "@jupyter-widgets/base",
            "_view_module_version": "1.2.0",
            "_view_name": "LayoutView",
            "align_content": null,
            "align_items": null,
            "align_self": null,
            "border": null,
            "bottom": null,
            "display": null,
            "flex": null,
            "flex_flow": null,
            "grid_area": null,
            "grid_auto_columns": null,
            "grid_auto_flow": null,
            "grid_auto_rows": null,
            "grid_column": null,
            "grid_gap": null,
            "grid_row": null,
            "grid_template_areas": null,
            "grid_template_columns": null,
            "grid_template_rows": null,
            "height": null,
            "justify_content": null,
            "justify_items": null,
            "left": null,
            "margin": null,
            "max_height": null,
            "max_width": null,
            "min_height": null,
            "min_width": null,
            "object_fit": null,
            "object_position": null,
            "order": null,
            "overflow": null,
            "overflow_x": null,
            "overflow_y": null,
            "padding": null,
            "right": null,
            "top": null,
            "visibility": null,
            "width": null
          }
        },
        "97ab28269afc439f8b447d13e72c63ca": {
          "model_module": "@jupyter-widgets/base",
          "model_name": "LayoutModel",
          "model_module_version": "1.2.0",
          "state": {
            "_model_module": "@jupyter-widgets/base",
            "_model_module_version": "1.2.0",
            "_model_name": "LayoutModel",
            "_view_count": null,
            "_view_module": "@jupyter-widgets/base",
            "_view_module_version": "1.2.0",
            "_view_name": "LayoutView",
            "align_content": null,
            "align_items": null,
            "align_self": null,
            "border": null,
            "bottom": null,
            "display": null,
            "flex": null,
            "flex_flow": null,
            "grid_area": null,
            "grid_auto_columns": null,
            "grid_auto_flow": null,
            "grid_auto_rows": null,
            "grid_column": null,
            "grid_gap": null,
            "grid_row": null,
            "grid_template_areas": null,
            "grid_template_columns": null,
            "grid_template_rows": null,
            "height": null,
            "justify_content": null,
            "justify_items": null,
            "left": null,
            "margin": null,
            "max_height": null,
            "max_width": null,
            "min_height": null,
            "min_width": null,
            "object_fit": null,
            "object_position": null,
            "order": null,
            "overflow": null,
            "overflow_x": null,
            "overflow_y": null,
            "padding": null,
            "right": null,
            "top": null,
            "visibility": null,
            "width": null
          }
        },
        "218a171cd213463f9b93d395df504219": {
          "model_module": "@jupyter-widgets/controls",
          "model_name": "DescriptionStyleModel",
          "model_module_version": "1.5.0",
          "state": {
            "_model_module": "@jupyter-widgets/controls",
            "_model_module_version": "1.5.0",
            "_model_name": "DescriptionStyleModel",
            "_view_count": null,
            "_view_module": "@jupyter-widgets/base",
            "_view_module_version": "1.2.0",
            "_view_name": "StyleView",
            "description_width": ""
          }
        },
        "5d6782a16468488da8c822aa261f899d": {
          "model_module": "@jupyter-widgets/base",
          "model_name": "LayoutModel",
          "model_module_version": "1.2.0",
          "state": {
            "_model_module": "@jupyter-widgets/base",
            "_model_module_version": "1.2.0",
            "_model_name": "LayoutModel",
            "_view_count": null,
            "_view_module": "@jupyter-widgets/base",
            "_view_module_version": "1.2.0",
            "_view_name": "LayoutView",
            "align_content": null,
            "align_items": null,
            "align_self": null,
            "border": null,
            "bottom": null,
            "display": null,
            "flex": null,
            "flex_flow": null,
            "grid_area": null,
            "grid_auto_columns": null,
            "grid_auto_flow": null,
            "grid_auto_rows": null,
            "grid_column": null,
            "grid_gap": null,
            "grid_row": null,
            "grid_template_areas": null,
            "grid_template_columns": null,
            "grid_template_rows": null,
            "height": null,
            "justify_content": null,
            "justify_items": null,
            "left": null,
            "margin": null,
            "max_height": null,
            "max_width": null,
            "min_height": null,
            "min_width": null,
            "object_fit": null,
            "object_position": null,
            "order": null,
            "overflow": null,
            "overflow_x": null,
            "overflow_y": null,
            "padding": null,
            "right": null,
            "top": null,
            "visibility": null,
            "width": null
          }
        },
        "063e1f2f41d04bc6b61fa91e23cf4007": {
          "model_module": "@jupyter-widgets/controls",
          "model_name": "ProgressStyleModel",
          "model_module_version": "1.5.0",
          "state": {
            "_model_module": "@jupyter-widgets/controls",
            "_model_module_version": "1.5.0",
            "_model_name": "ProgressStyleModel",
            "_view_count": null,
            "_view_module": "@jupyter-widgets/base",
            "_view_module_version": "1.2.0",
            "_view_name": "StyleView",
            "bar_color": null,
            "description_width": ""
          }
        },
        "5551eadd66b041ba8bc9bf43afce5233": {
          "model_module": "@jupyter-widgets/base",
          "model_name": "LayoutModel",
          "model_module_version": "1.2.0",
          "state": {
            "_model_module": "@jupyter-widgets/base",
            "_model_module_version": "1.2.0",
            "_model_name": "LayoutModel",
            "_view_count": null,
            "_view_module": "@jupyter-widgets/base",
            "_view_module_version": "1.2.0",
            "_view_name": "LayoutView",
            "align_content": null,
            "align_items": null,
            "align_self": null,
            "border": null,
            "bottom": null,
            "display": null,
            "flex": null,
            "flex_flow": null,
            "grid_area": null,
            "grid_auto_columns": null,
            "grid_auto_flow": null,
            "grid_auto_rows": null,
            "grid_column": null,
            "grid_gap": null,
            "grid_row": null,
            "grid_template_areas": null,
            "grid_template_columns": null,
            "grid_template_rows": null,
            "height": null,
            "justify_content": null,
            "justify_items": null,
            "left": null,
            "margin": null,
            "max_height": null,
            "max_width": null,
            "min_height": null,
            "min_width": null,
            "object_fit": null,
            "object_position": null,
            "order": null,
            "overflow": null,
            "overflow_x": null,
            "overflow_y": null,
            "padding": null,
            "right": null,
            "top": null,
            "visibility": null,
            "width": null
          }
        },
        "10206b56ba1e47f1a68750d88c2f8117": {
          "model_module": "@jupyter-widgets/controls",
          "model_name": "DescriptionStyleModel",
          "model_module_version": "1.5.0",
          "state": {
            "_model_module": "@jupyter-widgets/controls",
            "_model_module_version": "1.5.0",
            "_model_name": "DescriptionStyleModel",
            "_view_count": null,
            "_view_module": "@jupyter-widgets/base",
            "_view_module_version": "1.2.0",
            "_view_name": "StyleView",
            "description_width": ""
          }
        },
        "9378f079d1474dadb44efbb645455a49": {
          "model_module": "@jupyter-widgets/controls",
          "model_name": "HBoxModel",
          "model_module_version": "1.5.0",
          "state": {
            "_dom_classes": [],
            "_model_module": "@jupyter-widgets/controls",
            "_model_module_version": "1.5.0",
            "_model_name": "HBoxModel",
            "_view_count": null,
            "_view_module": "@jupyter-widgets/controls",
            "_view_module_version": "1.5.0",
            "_view_name": "HBoxView",
            "box_style": "",
            "children": [
              "IPY_MODEL_8b1a3b0b2be94dd39a42158062d89823",
              "IPY_MODEL_26f1183904774f69984a967dd3291ca8",
              "IPY_MODEL_cf817a85665748fbb2972d2bb1b7a425"
            ],
            "layout": "IPY_MODEL_994b1de44bcc4045b36271ea2776e9a3"
          }
        },
        "8b1a3b0b2be94dd39a42158062d89823": {
          "model_module": "@jupyter-widgets/controls",
          "model_name": "HTMLModel",
          "model_module_version": "1.5.0",
          "state": {
            "_dom_classes": [],
            "_model_module": "@jupyter-widgets/controls",
            "_model_module_version": "1.5.0",
            "_model_name": "HTMLModel",
            "_view_count": null,
            "_view_module": "@jupyter-widgets/controls",
            "_view_module_version": "1.5.0",
            "_view_name": "HTMLView",
            "description": "",
            "description_tooltip": null,
            "layout": "IPY_MODEL_1fff56d09b764d73965411fc40405553",
            "placeholder": "​",
            "style": "IPY_MODEL_89153b18bc9c4938b40d1b76a36f0bb0",
            "value": "Generating train split: "
          }
        },
        "26f1183904774f69984a967dd3291ca8": {
          "model_module": "@jupyter-widgets/controls",
          "model_name": "FloatProgressModel",
          "model_module_version": "1.5.0",
          "state": {
            "_dom_classes": [],
            "_model_module": "@jupyter-widgets/controls",
            "_model_module_version": "1.5.0",
            "_model_name": "FloatProgressModel",
            "_view_count": null,
            "_view_module": "@jupyter-widgets/controls",
            "_view_module_version": "1.5.0",
            "_view_name": "ProgressView",
            "bar_style": "success",
            "description": "",
            "description_tooltip": null,
            "layout": "IPY_MODEL_384dd94a4da747b5a9abc5f4b9b896d5",
            "max": 1,
            "min": 0,
            "orientation": "horizontal",
            "style": "IPY_MODEL_babed84ec6fd4de99083518a231a5074",
            "value": 1
          }
        },
        "cf817a85665748fbb2972d2bb1b7a425": {
          "model_module": "@jupyter-widgets/controls",
          "model_name": "HTMLModel",
          "model_module_version": "1.5.0",
          "state": {
            "_dom_classes": [],
            "_model_module": "@jupyter-widgets/controls",
            "_model_module_version": "1.5.0",
            "_model_name": "HTMLModel",
            "_view_count": null,
            "_view_module": "@jupyter-widgets/controls",
            "_view_module_version": "1.5.0",
            "_view_name": "HTMLView",
            "description": "",
            "description_tooltip": null,
            "layout": "IPY_MODEL_d59f9671a28e46b185aeaab2a8ac5188",
            "placeholder": "​",
            "style": "IPY_MODEL_fee4c63140034dfa90f21c1ddb06292f",
            "value": " 2934/0 [00:00&lt;00:00, 9396.57 examples/s]"
          }
        },
        "994b1de44bcc4045b36271ea2776e9a3": {
          "model_module": "@jupyter-widgets/base",
          "model_name": "LayoutModel",
          "model_module_version": "1.2.0",
          "state": {
            "_model_module": "@jupyter-widgets/base",
            "_model_module_version": "1.2.0",
            "_model_name": "LayoutModel",
            "_view_count": null,
            "_view_module": "@jupyter-widgets/base",
            "_view_module_version": "1.2.0",
            "_view_name": "LayoutView",
            "align_content": null,
            "align_items": null,
            "align_self": null,
            "border": null,
            "bottom": null,
            "display": null,
            "flex": null,
            "flex_flow": null,
            "grid_area": null,
            "grid_auto_columns": null,
            "grid_auto_flow": null,
            "grid_auto_rows": null,
            "grid_column": null,
            "grid_gap": null,
            "grid_row": null,
            "grid_template_areas": null,
            "grid_template_columns": null,
            "grid_template_rows": null,
            "height": null,
            "justify_content": null,
            "justify_items": null,
            "left": null,
            "margin": null,
            "max_height": null,
            "max_width": null,
            "min_height": null,
            "min_width": null,
            "object_fit": null,
            "object_position": null,
            "order": null,
            "overflow": null,
            "overflow_x": null,
            "overflow_y": null,
            "padding": null,
            "right": null,
            "top": null,
            "visibility": null,
            "width": null
          }
        },
        "1fff56d09b764d73965411fc40405553": {
          "model_module": "@jupyter-widgets/base",
          "model_name": "LayoutModel",
          "model_module_version": "1.2.0",
          "state": {
            "_model_module": "@jupyter-widgets/base",
            "_model_module_version": "1.2.0",
            "_model_name": "LayoutModel",
            "_view_count": null,
            "_view_module": "@jupyter-widgets/base",
            "_view_module_version": "1.2.0",
            "_view_name": "LayoutView",
            "align_content": null,
            "align_items": null,
            "align_self": null,
            "border": null,
            "bottom": null,
            "display": null,
            "flex": null,
            "flex_flow": null,
            "grid_area": null,
            "grid_auto_columns": null,
            "grid_auto_flow": null,
            "grid_auto_rows": null,
            "grid_column": null,
            "grid_gap": null,
            "grid_row": null,
            "grid_template_areas": null,
            "grid_template_columns": null,
            "grid_template_rows": null,
            "height": null,
            "justify_content": null,
            "justify_items": null,
            "left": null,
            "margin": null,
            "max_height": null,
            "max_width": null,
            "min_height": null,
            "min_width": null,
            "object_fit": null,
            "object_position": null,
            "order": null,
            "overflow": null,
            "overflow_x": null,
            "overflow_y": null,
            "padding": null,
            "right": null,
            "top": null,
            "visibility": null,
            "width": null
          }
        },
        "89153b18bc9c4938b40d1b76a36f0bb0": {
          "model_module": "@jupyter-widgets/controls",
          "model_name": "DescriptionStyleModel",
          "model_module_version": "1.5.0",
          "state": {
            "_model_module": "@jupyter-widgets/controls",
            "_model_module_version": "1.5.0",
            "_model_name": "DescriptionStyleModel",
            "_view_count": null,
            "_view_module": "@jupyter-widgets/base",
            "_view_module_version": "1.2.0",
            "_view_name": "StyleView",
            "description_width": ""
          }
        },
        "384dd94a4da747b5a9abc5f4b9b896d5": {
          "model_module": "@jupyter-widgets/base",
          "model_name": "LayoutModel",
          "model_module_version": "1.2.0",
          "state": {
            "_model_module": "@jupyter-widgets/base",
            "_model_module_version": "1.2.0",
            "_model_name": "LayoutModel",
            "_view_count": null,
            "_view_module": "@jupyter-widgets/base",
            "_view_module_version": "1.2.0",
            "_view_name": "LayoutView",
            "align_content": null,
            "align_items": null,
            "align_self": null,
            "border": null,
            "bottom": null,
            "display": null,
            "flex": null,
            "flex_flow": null,
            "grid_area": null,
            "grid_auto_columns": null,
            "grid_auto_flow": null,
            "grid_auto_rows": null,
            "grid_column": null,
            "grid_gap": null,
            "grid_row": null,
            "grid_template_areas": null,
            "grid_template_columns": null,
            "grid_template_rows": null,
            "height": null,
            "justify_content": null,
            "justify_items": null,
            "left": null,
            "margin": null,
            "max_height": null,
            "max_width": null,
            "min_height": null,
            "min_width": null,
            "object_fit": null,
            "object_position": null,
            "order": null,
            "overflow": null,
            "overflow_x": null,
            "overflow_y": null,
            "padding": null,
            "right": null,
            "top": null,
            "visibility": null,
            "width": "20px"
          }
        },
        "babed84ec6fd4de99083518a231a5074": {
          "model_module": "@jupyter-widgets/controls",
          "model_name": "ProgressStyleModel",
          "model_module_version": "1.5.0",
          "state": {
            "_model_module": "@jupyter-widgets/controls",
            "_model_module_version": "1.5.0",
            "_model_name": "ProgressStyleModel",
            "_view_count": null,
            "_view_module": "@jupyter-widgets/base",
            "_view_module_version": "1.2.0",
            "_view_name": "StyleView",
            "bar_color": null,
            "description_width": ""
          }
        },
        "d59f9671a28e46b185aeaab2a8ac5188": {
          "model_module": "@jupyter-widgets/base",
          "model_name": "LayoutModel",
          "model_module_version": "1.2.0",
          "state": {
            "_model_module": "@jupyter-widgets/base",
            "_model_module_version": "1.2.0",
            "_model_name": "LayoutModel",
            "_view_count": null,
            "_view_module": "@jupyter-widgets/base",
            "_view_module_version": "1.2.0",
            "_view_name": "LayoutView",
            "align_content": null,
            "align_items": null,
            "align_self": null,
            "border": null,
            "bottom": null,
            "display": null,
            "flex": null,
            "flex_flow": null,
            "grid_area": null,
            "grid_auto_columns": null,
            "grid_auto_flow": null,
            "grid_auto_rows": null,
            "grid_column": null,
            "grid_gap": null,
            "grid_row": null,
            "grid_template_areas": null,
            "grid_template_columns": null,
            "grid_template_rows": null,
            "height": null,
            "justify_content": null,
            "justify_items": null,
            "left": null,
            "margin": null,
            "max_height": null,
            "max_width": null,
            "min_height": null,
            "min_width": null,
            "object_fit": null,
            "object_position": null,
            "order": null,
            "overflow": null,
            "overflow_x": null,
            "overflow_y": null,
            "padding": null,
            "right": null,
            "top": null,
            "visibility": null,
            "width": null
          }
        },
        "fee4c63140034dfa90f21c1ddb06292f": {
          "model_module": "@jupyter-widgets/controls",
          "model_name": "DescriptionStyleModel",
          "model_module_version": "1.5.0",
          "state": {
            "_model_module": "@jupyter-widgets/controls",
            "_model_module_version": "1.5.0",
            "_model_name": "DescriptionStyleModel",
            "_view_count": null,
            "_view_module": "@jupyter-widgets/base",
            "_view_module_version": "1.2.0",
            "_view_name": "StyleView",
            "description_width": ""
          }
        },
        "0bf413ff53fc4c7d89cc5d6e1566cb9d": {
          "model_module": "@jupyter-widgets/controls",
          "model_name": "HBoxModel",
          "model_module_version": "1.5.0",
          "state": {
            "_dom_classes": [],
            "_model_module": "@jupyter-widgets/controls",
            "_model_module_version": "1.5.0",
            "_model_name": "HBoxModel",
            "_view_count": null,
            "_view_module": "@jupyter-widgets/controls",
            "_view_module_version": "1.5.0",
            "_view_name": "HBoxView",
            "box_style": "",
            "children": [
              "IPY_MODEL_af1547f1debe4e179f4b682f2f73df87",
              "IPY_MODEL_86ec3332b0864d7f881cc9e58c699e80",
              "IPY_MODEL_7a28eba6de304eaaa02775da7879ee97"
            ],
            "layout": "IPY_MODEL_5dbf8ecf8ea740f6b196ecc211d9744d"
          }
        },
        "af1547f1debe4e179f4b682f2f73df87": {
          "model_module": "@jupyter-widgets/controls",
          "model_name": "HTMLModel",
          "model_module_version": "1.5.0",
          "state": {
            "_dom_classes": [],
            "_model_module": "@jupyter-widgets/controls",
            "_model_module_version": "1.5.0",
            "_model_name": "HTMLModel",
            "_view_count": null,
            "_view_module": "@jupyter-widgets/controls",
            "_view_module_version": "1.5.0",
            "_view_name": "HTMLView",
            "description": "",
            "description_tooltip": null,
            "layout": "IPY_MODEL_edf1afbbc90c483ca187208f0ce16472",
            "placeholder": "​",
            "style": "IPY_MODEL_d418f759b7b948d89da2843dcffacfab",
            "value": "Generating test split: "
          }
        },
        "86ec3332b0864d7f881cc9e58c699e80": {
          "model_module": "@jupyter-widgets/controls",
          "model_name": "FloatProgressModel",
          "model_module_version": "1.5.0",
          "state": {
            "_dom_classes": [],
            "_model_module": "@jupyter-widgets/controls",
            "_model_module_version": "1.5.0",
            "_model_name": "FloatProgressModel",
            "_view_count": null,
            "_view_module": "@jupyter-widgets/controls",
            "_view_module_version": "1.5.0",
            "_view_name": "ProgressView",
            "bar_style": "success",
            "description": "",
            "description_tooltip": null,
            "layout": "IPY_MODEL_9a40db23e65d4f689be8c8c40690b722",
            "max": 1,
            "min": 0,
            "orientation": "horizontal",
            "style": "IPY_MODEL_6f56d33f90b9410bb5b2307ad3455832",
            "value": 1
          }
        },
        "7a28eba6de304eaaa02775da7879ee97": {
          "model_module": "@jupyter-widgets/controls",
          "model_name": "HTMLModel",
          "model_module_version": "1.5.0",
          "state": {
            "_dom_classes": [],
            "_model_module": "@jupyter-widgets/controls",
            "_model_module_version": "1.5.0",
            "_model_name": "HTMLModel",
            "_view_count": null,
            "_view_module": "@jupyter-widgets/controls",
            "_view_module_version": "1.5.0",
            "_view_name": "HTMLView",
            "description": "",
            "description_tooltip": null,
            "layout": "IPY_MODEL_593c0ebfdbcf4d9a9620fbec054199af",
            "placeholder": "​",
            "style": "IPY_MODEL_c5852427502d4859b2880b746a268cd8",
            "value": " 711/0 [00:00&lt;00:00, 6182.42 examples/s]"
          }
        },
        "5dbf8ecf8ea740f6b196ecc211d9744d": {
          "model_module": "@jupyter-widgets/base",
          "model_name": "LayoutModel",
          "model_module_version": "1.2.0",
          "state": {
            "_model_module": "@jupyter-widgets/base",
            "_model_module_version": "1.2.0",
            "_model_name": "LayoutModel",
            "_view_count": null,
            "_view_module": "@jupyter-widgets/base",
            "_view_module_version": "1.2.0",
            "_view_name": "LayoutView",
            "align_content": null,
            "align_items": null,
            "align_self": null,
            "border": null,
            "bottom": null,
            "display": null,
            "flex": null,
            "flex_flow": null,
            "grid_area": null,
            "grid_auto_columns": null,
            "grid_auto_flow": null,
            "grid_auto_rows": null,
            "grid_column": null,
            "grid_gap": null,
            "grid_row": null,
            "grid_template_areas": null,
            "grid_template_columns": null,
            "grid_template_rows": null,
            "height": null,
            "justify_content": null,
            "justify_items": null,
            "left": null,
            "margin": null,
            "max_height": null,
            "max_width": null,
            "min_height": null,
            "min_width": null,
            "object_fit": null,
            "object_position": null,
            "order": null,
            "overflow": null,
            "overflow_x": null,
            "overflow_y": null,
            "padding": null,
            "right": null,
            "top": null,
            "visibility": null,
            "width": null
          }
        },
        "edf1afbbc90c483ca187208f0ce16472": {
          "model_module": "@jupyter-widgets/base",
          "model_name": "LayoutModel",
          "model_module_version": "1.2.0",
          "state": {
            "_model_module": "@jupyter-widgets/base",
            "_model_module_version": "1.2.0",
            "_model_name": "LayoutModel",
            "_view_count": null,
            "_view_module": "@jupyter-widgets/base",
            "_view_module_version": "1.2.0",
            "_view_name": "LayoutView",
            "align_content": null,
            "align_items": null,
            "align_self": null,
            "border": null,
            "bottom": null,
            "display": null,
            "flex": null,
            "flex_flow": null,
            "grid_area": null,
            "grid_auto_columns": null,
            "grid_auto_flow": null,
            "grid_auto_rows": null,
            "grid_column": null,
            "grid_gap": null,
            "grid_row": null,
            "grid_template_areas": null,
            "grid_template_columns": null,
            "grid_template_rows": null,
            "height": null,
            "justify_content": null,
            "justify_items": null,
            "left": null,
            "margin": null,
            "max_height": null,
            "max_width": null,
            "min_height": null,
            "min_width": null,
            "object_fit": null,
            "object_position": null,
            "order": null,
            "overflow": null,
            "overflow_x": null,
            "overflow_y": null,
            "padding": null,
            "right": null,
            "top": null,
            "visibility": null,
            "width": null
          }
        },
        "d418f759b7b948d89da2843dcffacfab": {
          "model_module": "@jupyter-widgets/controls",
          "model_name": "DescriptionStyleModel",
          "model_module_version": "1.5.0",
          "state": {
            "_model_module": "@jupyter-widgets/controls",
            "_model_module_version": "1.5.0",
            "_model_name": "DescriptionStyleModel",
            "_view_count": null,
            "_view_module": "@jupyter-widgets/base",
            "_view_module_version": "1.2.0",
            "_view_name": "StyleView",
            "description_width": ""
          }
        },
        "9a40db23e65d4f689be8c8c40690b722": {
          "model_module": "@jupyter-widgets/base",
          "model_name": "LayoutModel",
          "model_module_version": "1.2.0",
          "state": {
            "_model_module": "@jupyter-widgets/base",
            "_model_module_version": "1.2.0",
            "_model_name": "LayoutModel",
            "_view_count": null,
            "_view_module": "@jupyter-widgets/base",
            "_view_module_version": "1.2.0",
            "_view_name": "LayoutView",
            "align_content": null,
            "align_items": null,
            "align_self": null,
            "border": null,
            "bottom": null,
            "display": null,
            "flex": null,
            "flex_flow": null,
            "grid_area": null,
            "grid_auto_columns": null,
            "grid_auto_flow": null,
            "grid_auto_rows": null,
            "grid_column": null,
            "grid_gap": null,
            "grid_row": null,
            "grid_template_areas": null,
            "grid_template_columns": null,
            "grid_template_rows": null,
            "height": null,
            "justify_content": null,
            "justify_items": null,
            "left": null,
            "margin": null,
            "max_height": null,
            "max_width": null,
            "min_height": null,
            "min_width": null,
            "object_fit": null,
            "object_position": null,
            "order": null,
            "overflow": null,
            "overflow_x": null,
            "overflow_y": null,
            "padding": null,
            "right": null,
            "top": null,
            "visibility": null,
            "width": "20px"
          }
        },
        "6f56d33f90b9410bb5b2307ad3455832": {
          "model_module": "@jupyter-widgets/controls",
          "model_name": "ProgressStyleModel",
          "model_module_version": "1.5.0",
          "state": {
            "_model_module": "@jupyter-widgets/controls",
            "_model_module_version": "1.5.0",
            "_model_name": "ProgressStyleModel",
            "_view_count": null,
            "_view_module": "@jupyter-widgets/base",
            "_view_module_version": "1.2.0",
            "_view_name": "StyleView",
            "bar_color": null,
            "description_width": ""
          }
        },
        "593c0ebfdbcf4d9a9620fbec054199af": {
          "model_module": "@jupyter-widgets/base",
          "model_name": "LayoutModel",
          "model_module_version": "1.2.0",
          "state": {
            "_model_module": "@jupyter-widgets/base",
            "_model_module_version": "1.2.0",
            "_model_name": "LayoutModel",
            "_view_count": null,
            "_view_module": "@jupyter-widgets/base",
            "_view_module_version": "1.2.0",
            "_view_name": "LayoutView",
            "align_content": null,
            "align_items": null,
            "align_self": null,
            "border": null,
            "bottom": null,
            "display": null,
            "flex": null,
            "flex_flow": null,
            "grid_area": null,
            "grid_auto_columns": null,
            "grid_auto_flow": null,
            "grid_auto_rows": null,
            "grid_column": null,
            "grid_gap": null,
            "grid_row": null,
            "grid_template_areas": null,
            "grid_template_columns": null,
            "grid_template_rows": null,
            "height": null,
            "justify_content": null,
            "justify_items": null,
            "left": null,
            "margin": null,
            "max_height": null,
            "max_width": null,
            "min_height": null,
            "min_width": null,
            "object_fit": null,
            "object_position": null,
            "order": null,
            "overflow": null,
            "overflow_x": null,
            "overflow_y": null,
            "padding": null,
            "right": null,
            "top": null,
            "visibility": null,
            "width": null
          }
        },
        "c5852427502d4859b2880b746a268cd8": {
          "model_module": "@jupyter-widgets/controls",
          "model_name": "DescriptionStyleModel",
          "model_module_version": "1.5.0",
          "state": {
            "_model_module": "@jupyter-widgets/controls",
            "_model_module_version": "1.5.0",
            "_model_name": "DescriptionStyleModel",
            "_view_count": null,
            "_view_module": "@jupyter-widgets/base",
            "_view_module_version": "1.2.0",
            "_view_name": "StyleView",
            "description_width": ""
          }
        },
        "2d63adf02ae44002bf40c0437a81308a": {
          "model_module": "@jupyter-widgets/controls",
          "model_name": "HBoxModel",
          "model_module_version": "1.5.0",
          "state": {
            "_dom_classes": [],
            "_model_module": "@jupyter-widgets/controls",
            "_model_module_version": "1.5.0",
            "_model_name": "HBoxModel",
            "_view_count": null,
            "_view_module": "@jupyter-widgets/controls",
            "_view_module_version": "1.5.0",
            "_view_name": "HBoxView",
            "box_style": "",
            "children": [
              "IPY_MODEL_352e8b0d50d64ea9bba4d0015211fa9c",
              "IPY_MODEL_9678ebcfe35c4eecb43d89813e41abcc",
              "IPY_MODEL_52c00d49900a4b6c8e96d0cb8ba204f5"
            ],
            "layout": "IPY_MODEL_e46fcba34906468c82d6cc3896a61117"
          }
        },
        "352e8b0d50d64ea9bba4d0015211fa9c": {
          "model_module": "@jupyter-widgets/controls",
          "model_name": "HTMLModel",
          "model_module_version": "1.5.0",
          "state": {
            "_dom_classes": [],
            "_model_module": "@jupyter-widgets/controls",
            "_model_module_version": "1.5.0",
            "_model_name": "HTMLModel",
            "_view_count": null,
            "_view_module": "@jupyter-widgets/controls",
            "_view_module_version": "1.5.0",
            "_view_name": "HTMLView",
            "description": "",
            "description_tooltip": null,
            "layout": "IPY_MODEL_867f16dfe0a04fe28271b6da653c6447",
            "placeholder": "​",
            "style": "IPY_MODEL_0308b30e6e46452f83dc8f98b3829782",
            "value": "preprocessor_config.json: 100%"
          }
        },
        "9678ebcfe35c4eecb43d89813e41abcc": {
          "model_module": "@jupyter-widgets/controls",
          "model_name": "FloatProgressModel",
          "model_module_version": "1.5.0",
          "state": {
            "_dom_classes": [],
            "_model_module": "@jupyter-widgets/controls",
            "_model_module_version": "1.5.0",
            "_model_name": "FloatProgressModel",
            "_view_count": null,
            "_view_module": "@jupyter-widgets/controls",
            "_view_module_version": "1.5.0",
            "_view_name": "ProgressView",
            "bar_style": "success",
            "description": "",
            "description_tooltip": null,
            "layout": "IPY_MODEL_8749738559ca4379915e602e9192b31f",
            "max": 160,
            "min": 0,
            "orientation": "horizontal",
            "style": "IPY_MODEL_424ce69e2e6e4a4fb8a92789ce8ddbd4",
            "value": 160
          }
        },
        "52c00d49900a4b6c8e96d0cb8ba204f5": {
          "model_module": "@jupyter-widgets/controls",
          "model_name": "HTMLModel",
          "model_module_version": "1.5.0",
          "state": {
            "_dom_classes": [],
            "_model_module": "@jupyter-widgets/controls",
            "_model_module_version": "1.5.0",
            "_model_name": "HTMLModel",
            "_view_count": null,
            "_view_module": "@jupyter-widgets/controls",
            "_view_module_version": "1.5.0",
            "_view_name": "HTMLView",
            "description": "",
            "description_tooltip": null,
            "layout": "IPY_MODEL_57c83e8ae2a345ccb20112e57e2bded5",
            "placeholder": "​",
            "style": "IPY_MODEL_0f01add57f06413db165a6b9812314b1",
            "value": " 160/160 [00:00&lt;00:00, 11.0kB/s]"
          }
        },
        "e46fcba34906468c82d6cc3896a61117": {
          "model_module": "@jupyter-widgets/base",
          "model_name": "LayoutModel",
          "model_module_version": "1.2.0",
          "state": {
            "_model_module": "@jupyter-widgets/base",
            "_model_module_version": "1.2.0",
            "_model_name": "LayoutModel",
            "_view_count": null,
            "_view_module": "@jupyter-widgets/base",
            "_view_module_version": "1.2.0",
            "_view_name": "LayoutView",
            "align_content": null,
            "align_items": null,
            "align_self": null,
            "border": null,
            "bottom": null,
            "display": null,
            "flex": null,
            "flex_flow": null,
            "grid_area": null,
            "grid_auto_columns": null,
            "grid_auto_flow": null,
            "grid_auto_rows": null,
            "grid_column": null,
            "grid_gap": null,
            "grid_row": null,
            "grid_template_areas": null,
            "grid_template_columns": null,
            "grid_template_rows": null,
            "height": null,
            "justify_content": null,
            "justify_items": null,
            "left": null,
            "margin": null,
            "max_height": null,
            "max_width": null,
            "min_height": null,
            "min_width": null,
            "object_fit": null,
            "object_position": null,
            "order": null,
            "overflow": null,
            "overflow_x": null,
            "overflow_y": null,
            "padding": null,
            "right": null,
            "top": null,
            "visibility": null,
            "width": null
          }
        },
        "867f16dfe0a04fe28271b6da653c6447": {
          "model_module": "@jupyter-widgets/base",
          "model_name": "LayoutModel",
          "model_module_version": "1.2.0",
          "state": {
            "_model_module": "@jupyter-widgets/base",
            "_model_module_version": "1.2.0",
            "_model_name": "LayoutModel",
            "_view_count": null,
            "_view_module": "@jupyter-widgets/base",
            "_view_module_version": "1.2.0",
            "_view_name": "LayoutView",
            "align_content": null,
            "align_items": null,
            "align_self": null,
            "border": null,
            "bottom": null,
            "display": null,
            "flex": null,
            "flex_flow": null,
            "grid_area": null,
            "grid_auto_columns": null,
            "grid_auto_flow": null,
            "grid_auto_rows": null,
            "grid_column": null,
            "grid_gap": null,
            "grid_row": null,
            "grid_template_areas": null,
            "grid_template_columns": null,
            "grid_template_rows": null,
            "height": null,
            "justify_content": null,
            "justify_items": null,
            "left": null,
            "margin": null,
            "max_height": null,
            "max_width": null,
            "min_height": null,
            "min_width": null,
            "object_fit": null,
            "object_position": null,
            "order": null,
            "overflow": null,
            "overflow_x": null,
            "overflow_y": null,
            "padding": null,
            "right": null,
            "top": null,
            "visibility": null,
            "width": null
          }
        },
        "0308b30e6e46452f83dc8f98b3829782": {
          "model_module": "@jupyter-widgets/controls",
          "model_name": "DescriptionStyleModel",
          "model_module_version": "1.5.0",
          "state": {
            "_model_module": "@jupyter-widgets/controls",
            "_model_module_version": "1.5.0",
            "_model_name": "DescriptionStyleModel",
            "_view_count": null,
            "_view_module": "@jupyter-widgets/base",
            "_view_module_version": "1.2.0",
            "_view_name": "StyleView",
            "description_width": ""
          }
        },
        "8749738559ca4379915e602e9192b31f": {
          "model_module": "@jupyter-widgets/base",
          "model_name": "LayoutModel",
          "model_module_version": "1.2.0",
          "state": {
            "_model_module": "@jupyter-widgets/base",
            "_model_module_version": "1.2.0",
            "_model_name": "LayoutModel",
            "_view_count": null,
            "_view_module": "@jupyter-widgets/base",
            "_view_module_version": "1.2.0",
            "_view_name": "LayoutView",
            "align_content": null,
            "align_items": null,
            "align_self": null,
            "border": null,
            "bottom": null,
            "display": null,
            "flex": null,
            "flex_flow": null,
            "grid_area": null,
            "grid_auto_columns": null,
            "grid_auto_flow": null,
            "grid_auto_rows": null,
            "grid_column": null,
            "grid_gap": null,
            "grid_row": null,
            "grid_template_areas": null,
            "grid_template_columns": null,
            "grid_template_rows": null,
            "height": null,
            "justify_content": null,
            "justify_items": null,
            "left": null,
            "margin": null,
            "max_height": null,
            "max_width": null,
            "min_height": null,
            "min_width": null,
            "object_fit": null,
            "object_position": null,
            "order": null,
            "overflow": null,
            "overflow_x": null,
            "overflow_y": null,
            "padding": null,
            "right": null,
            "top": null,
            "visibility": null,
            "width": null
          }
        },
        "424ce69e2e6e4a4fb8a92789ce8ddbd4": {
          "model_module": "@jupyter-widgets/controls",
          "model_name": "ProgressStyleModel",
          "model_module_version": "1.5.0",
          "state": {
            "_model_module": "@jupyter-widgets/controls",
            "_model_module_version": "1.5.0",
            "_model_name": "ProgressStyleModel",
            "_view_count": null,
            "_view_module": "@jupyter-widgets/base",
            "_view_module_version": "1.2.0",
            "_view_name": "StyleView",
            "bar_color": null,
            "description_width": ""
          }
        },
        "57c83e8ae2a345ccb20112e57e2bded5": {
          "model_module": "@jupyter-widgets/base",
          "model_name": "LayoutModel",
          "model_module_version": "1.2.0",
          "state": {
            "_model_module": "@jupyter-widgets/base",
            "_model_module_version": "1.2.0",
            "_model_name": "LayoutModel",
            "_view_count": null,
            "_view_module": "@jupyter-widgets/base",
            "_view_module_version": "1.2.0",
            "_view_name": "LayoutView",
            "align_content": null,
            "align_items": null,
            "align_self": null,
            "border": null,
            "bottom": null,
            "display": null,
            "flex": null,
            "flex_flow": null,
            "grid_area": null,
            "grid_auto_columns": null,
            "grid_auto_flow": null,
            "grid_auto_rows": null,
            "grid_column": null,
            "grid_gap": null,
            "grid_row": null,
            "grid_template_areas": null,
            "grid_template_columns": null,
            "grid_template_rows": null,
            "height": null,
            "justify_content": null,
            "justify_items": null,
            "left": null,
            "margin": null,
            "max_height": null,
            "max_width": null,
            "min_height": null,
            "min_width": null,
            "object_fit": null,
            "object_position": null,
            "order": null,
            "overflow": null,
            "overflow_x": null,
            "overflow_y": null,
            "padding": null,
            "right": null,
            "top": null,
            "visibility": null,
            "width": null
          }
        },
        "0f01add57f06413db165a6b9812314b1": {
          "model_module": "@jupyter-widgets/controls",
          "model_name": "DescriptionStyleModel",
          "model_module_version": "1.5.0",
          "state": {
            "_model_module": "@jupyter-widgets/controls",
            "_model_module_version": "1.5.0",
            "_model_name": "DescriptionStyleModel",
            "_view_count": null,
            "_view_module": "@jupyter-widgets/base",
            "_view_module_version": "1.2.0",
            "_view_name": "StyleView",
            "description_width": ""
          }
        },
        "6a4c6de3bda6488aa356472524b5d969": {
          "model_module": "@jupyter-widgets/controls",
          "model_name": "HBoxModel",
          "model_module_version": "1.5.0",
          "state": {
            "_dom_classes": [],
            "_model_module": "@jupyter-widgets/controls",
            "_model_module_version": "1.5.0",
            "_model_name": "HBoxModel",
            "_view_count": null,
            "_view_module": "@jupyter-widgets/controls",
            "_view_module_version": "1.5.0",
            "_view_name": "HBoxView",
            "box_style": "",
            "children": [
              "IPY_MODEL_efc752b552ba476cb4db143e96c6b380",
              "IPY_MODEL_1e8f0d22c31848b5922f4c0625a0581d",
              "IPY_MODEL_1fbb5156fa0348eda87dbb02f704a970"
            ],
            "layout": "IPY_MODEL_8e451e27f7984991a64dcd79ff5a890a"
          }
        },
        "efc752b552ba476cb4db143e96c6b380": {
          "model_module": "@jupyter-widgets/controls",
          "model_name": "HTMLModel",
          "model_module_version": "1.5.0",
          "state": {
            "_dom_classes": [],
            "_model_module": "@jupyter-widgets/controls",
            "_model_module_version": "1.5.0",
            "_model_name": "HTMLModel",
            "_view_count": null,
            "_view_module": "@jupyter-widgets/controls",
            "_view_module_version": "1.5.0",
            "_view_name": "HTMLView",
            "description": "",
            "description_tooltip": null,
            "layout": "IPY_MODEL_e9924305e537486587ee28d498a50dfd",
            "placeholder": "​",
            "style": "IPY_MODEL_4d11f125fde740c59fdeb1b8ebd05d2d",
            "value": "config.json: 100%"
          }
        },
        "1e8f0d22c31848b5922f4c0625a0581d": {
          "model_module": "@jupyter-widgets/controls",
          "model_name": "FloatProgressModel",
          "model_module_version": "1.5.0",
          "state": {
            "_dom_classes": [],
            "_model_module": "@jupyter-widgets/controls",
            "_model_module_version": "1.5.0",
            "_model_name": "FloatProgressModel",
            "_view_count": null,
            "_view_module": "@jupyter-widgets/controls",
            "_view_module_version": "1.5.0",
            "_view_name": "ProgressView",
            "bar_style": "success",
            "description": "",
            "description_tooltip": null,
            "layout": "IPY_MODEL_b4a4b72fe6374e068dfa867275a52605",
            "max": 502,
            "min": 0,
            "orientation": "horizontal",
            "style": "IPY_MODEL_07504d043a4f4159ad67141eeb10b109",
            "value": 502
          }
        },
        "1fbb5156fa0348eda87dbb02f704a970": {
          "model_module": "@jupyter-widgets/controls",
          "model_name": "HTMLModel",
          "model_module_version": "1.5.0",
          "state": {
            "_dom_classes": [],
            "_model_module": "@jupyter-widgets/controls",
            "_model_module_version": "1.5.0",
            "_model_name": "HTMLModel",
            "_view_count": null,
            "_view_module": "@jupyter-widgets/controls",
            "_view_module_version": "1.5.0",
            "_view_name": "HTMLView",
            "description": "",
            "description_tooltip": null,
            "layout": "IPY_MODEL_0cf2300fdd324bc38c40364363e87c78",
            "placeholder": "​",
            "style": "IPY_MODEL_1da06f398d9f406e813db42d31184fb9",
            "value": " 502/502 [00:00&lt;00:00, 34.3kB/s]"
          }
        },
        "8e451e27f7984991a64dcd79ff5a890a": {
          "model_module": "@jupyter-widgets/base",
          "model_name": "LayoutModel",
          "model_module_version": "1.2.0",
          "state": {
            "_model_module": "@jupyter-widgets/base",
            "_model_module_version": "1.2.0",
            "_model_name": "LayoutModel",
            "_view_count": null,
            "_view_module": "@jupyter-widgets/base",
            "_view_module_version": "1.2.0",
            "_view_name": "LayoutView",
            "align_content": null,
            "align_items": null,
            "align_self": null,
            "border": null,
            "bottom": null,
            "display": null,
            "flex": null,
            "flex_flow": null,
            "grid_area": null,
            "grid_auto_columns": null,
            "grid_auto_flow": null,
            "grid_auto_rows": null,
            "grid_column": null,
            "grid_gap": null,
            "grid_row": null,
            "grid_template_areas": null,
            "grid_template_columns": null,
            "grid_template_rows": null,
            "height": null,
            "justify_content": null,
            "justify_items": null,
            "left": null,
            "margin": null,
            "max_height": null,
            "max_width": null,
            "min_height": null,
            "min_width": null,
            "object_fit": null,
            "object_position": null,
            "order": null,
            "overflow": null,
            "overflow_x": null,
            "overflow_y": null,
            "padding": null,
            "right": null,
            "top": null,
            "visibility": null,
            "width": null
          }
        },
        "e9924305e537486587ee28d498a50dfd": {
          "model_module": "@jupyter-widgets/base",
          "model_name": "LayoutModel",
          "model_module_version": "1.2.0",
          "state": {
            "_model_module": "@jupyter-widgets/base",
            "_model_module_version": "1.2.0",
            "_model_name": "LayoutModel",
            "_view_count": null,
            "_view_module": "@jupyter-widgets/base",
            "_view_module_version": "1.2.0",
            "_view_name": "LayoutView",
            "align_content": null,
            "align_items": null,
            "align_self": null,
            "border": null,
            "bottom": null,
            "display": null,
            "flex": null,
            "flex_flow": null,
            "grid_area": null,
            "grid_auto_columns": null,
            "grid_auto_flow": null,
            "grid_auto_rows": null,
            "grid_column": null,
            "grid_gap": null,
            "grid_row": null,
            "grid_template_areas": null,
            "grid_template_columns": null,
            "grid_template_rows": null,
            "height": null,
            "justify_content": null,
            "justify_items": null,
            "left": null,
            "margin": null,
            "max_height": null,
            "max_width": null,
            "min_height": null,
            "min_width": null,
            "object_fit": null,
            "object_position": null,
            "order": null,
            "overflow": null,
            "overflow_x": null,
            "overflow_y": null,
            "padding": null,
            "right": null,
            "top": null,
            "visibility": null,
            "width": null
          }
        },
        "4d11f125fde740c59fdeb1b8ebd05d2d": {
          "model_module": "@jupyter-widgets/controls",
          "model_name": "DescriptionStyleModel",
          "model_module_version": "1.5.0",
          "state": {
            "_model_module": "@jupyter-widgets/controls",
            "_model_module_version": "1.5.0",
            "_model_name": "DescriptionStyleModel",
            "_view_count": null,
            "_view_module": "@jupyter-widgets/base",
            "_view_module_version": "1.2.0",
            "_view_name": "StyleView",
            "description_width": ""
          }
        },
        "b4a4b72fe6374e068dfa867275a52605": {
          "model_module": "@jupyter-widgets/base",
          "model_name": "LayoutModel",
          "model_module_version": "1.2.0",
          "state": {
            "_model_module": "@jupyter-widgets/base",
            "_model_module_version": "1.2.0",
            "_model_name": "LayoutModel",
            "_view_count": null,
            "_view_module": "@jupyter-widgets/base",
            "_view_module_version": "1.2.0",
            "_view_name": "LayoutView",
            "align_content": null,
            "align_items": null,
            "align_self": null,
            "border": null,
            "bottom": null,
            "display": null,
            "flex": null,
            "flex_flow": null,
            "grid_area": null,
            "grid_auto_columns": null,
            "grid_auto_flow": null,
            "grid_auto_rows": null,
            "grid_column": null,
            "grid_gap": null,
            "grid_row": null,
            "grid_template_areas": null,
            "grid_template_columns": null,
            "grid_template_rows": null,
            "height": null,
            "justify_content": null,
            "justify_items": null,
            "left": null,
            "margin": null,
            "max_height": null,
            "max_width": null,
            "min_height": null,
            "min_width": null,
            "object_fit": null,
            "object_position": null,
            "order": null,
            "overflow": null,
            "overflow_x": null,
            "overflow_y": null,
            "padding": null,
            "right": null,
            "top": null,
            "visibility": null,
            "width": null
          }
        },
        "07504d043a4f4159ad67141eeb10b109": {
          "model_module": "@jupyter-widgets/controls",
          "model_name": "ProgressStyleModel",
          "model_module_version": "1.5.0",
          "state": {
            "_model_module": "@jupyter-widgets/controls",
            "_model_module_version": "1.5.0",
            "_model_name": "ProgressStyleModel",
            "_view_count": null,
            "_view_module": "@jupyter-widgets/base",
            "_view_module_version": "1.2.0",
            "_view_name": "StyleView",
            "bar_color": null,
            "description_width": ""
          }
        },
        "0cf2300fdd324bc38c40364363e87c78": {
          "model_module": "@jupyter-widgets/base",
          "model_name": "LayoutModel",
          "model_module_version": "1.2.0",
          "state": {
            "_model_module": "@jupyter-widgets/base",
            "_model_module_version": "1.2.0",
            "_model_name": "LayoutModel",
            "_view_count": null,
            "_view_module": "@jupyter-widgets/base",
            "_view_module_version": "1.2.0",
            "_view_name": "LayoutView",
            "align_content": null,
            "align_items": null,
            "align_self": null,
            "border": null,
            "bottom": null,
            "display": null,
            "flex": null,
            "flex_flow": null,
            "grid_area": null,
            "grid_auto_columns": null,
            "grid_auto_flow": null,
            "grid_auto_rows": null,
            "grid_column": null,
            "grid_gap": null,
            "grid_row": null,
            "grid_template_areas": null,
            "grid_template_columns": null,
            "grid_template_rows": null,
            "height": null,
            "justify_content": null,
            "justify_items": null,
            "left": null,
            "margin": null,
            "max_height": null,
            "max_width": null,
            "min_height": null,
            "min_width": null,
            "object_fit": null,
            "object_position": null,
            "order": null,
            "overflow": null,
            "overflow_x": null,
            "overflow_y": null,
            "padding": null,
            "right": null,
            "top": null,
            "visibility": null,
            "width": null
          }
        },
        "1da06f398d9f406e813db42d31184fb9": {
          "model_module": "@jupyter-widgets/controls",
          "model_name": "DescriptionStyleModel",
          "model_module_version": "1.5.0",
          "state": {
            "_model_module": "@jupyter-widgets/controls",
            "_model_module_version": "1.5.0",
            "_model_name": "DescriptionStyleModel",
            "_view_count": null,
            "_view_module": "@jupyter-widgets/base",
            "_view_module_version": "1.2.0",
            "_view_name": "StyleView",
            "description_width": ""
          }
        },
        "0df2e5bdce6f4e11b1677be01645d093": {
          "model_module": "@jupyter-widgets/controls",
          "model_name": "HBoxModel",
          "model_module_version": "1.5.0",
          "state": {
            "_dom_classes": [],
            "_model_module": "@jupyter-widgets/controls",
            "_model_module_version": "1.5.0",
            "_model_name": "HBoxModel",
            "_view_count": null,
            "_view_module": "@jupyter-widgets/controls",
            "_view_module_version": "1.5.0",
            "_view_name": "HBoxView",
            "box_style": "",
            "children": [
              "IPY_MODEL_b5129aced8bc4e59aa7b5cfbca26661f",
              "IPY_MODEL_89b5df0c48b14f639cc4b8a6b3a0c0ff",
              "IPY_MODEL_bc77009896c540b18b57143b7e7720b8"
            ],
            "layout": "IPY_MODEL_16072c2e90fd48a9b822d7d18e7d8a71"
          }
        },
        "b5129aced8bc4e59aa7b5cfbca26661f": {
          "model_module": "@jupyter-widgets/controls",
          "model_name": "HTMLModel",
          "model_module_version": "1.5.0",
          "state": {
            "_dom_classes": [],
            "_model_module": "@jupyter-widgets/controls",
            "_model_module_version": "1.5.0",
            "_model_name": "HTMLModel",
            "_view_count": null,
            "_view_module": "@jupyter-widgets/controls",
            "_view_module_version": "1.5.0",
            "_view_name": "HTMLView",
            "description": "",
            "description_tooltip": null,
            "layout": "IPY_MODEL_62dac8a589894a51adbdd0a0d866618d",
            "placeholder": "​",
            "style": "IPY_MODEL_ebd33a1089b04f108132d2c402f5bda7",
            "value": "config.json: 100%"
          }
        },
        "89b5df0c48b14f639cc4b8a6b3a0c0ff": {
          "model_module": "@jupyter-widgets/controls",
          "model_name": "FloatProgressModel",
          "model_module_version": "1.5.0",
          "state": {
            "_dom_classes": [],
            "_model_module": "@jupyter-widgets/controls",
            "_model_module_version": "1.5.0",
            "_model_name": "FloatProgressModel",
            "_view_count": null,
            "_view_module": "@jupyter-widgets/controls",
            "_view_module_version": "1.5.0",
            "_view_name": "ProgressView",
            "bar_style": "success",
            "description": "",
            "description_tooltip": null,
            "layout": "IPY_MODEL_5f41229c099c465b854a5a52a6f77c83",
            "max": 69665,
            "min": 0,
            "orientation": "horizontal",
            "style": "IPY_MODEL_a0f4fcb985a445dc9236421a8c770876",
            "value": 69665
          }
        },
        "bc77009896c540b18b57143b7e7720b8": {
          "model_module": "@jupyter-widgets/controls",
          "model_name": "HTMLModel",
          "model_module_version": "1.5.0",
          "state": {
            "_dom_classes": [],
            "_model_module": "@jupyter-widgets/controls",
            "_model_module_version": "1.5.0",
            "_model_name": "HTMLModel",
            "_view_count": null,
            "_view_module": "@jupyter-widgets/controls",
            "_view_module_version": "1.5.0",
            "_view_name": "HTMLView",
            "description": "",
            "description_tooltip": null,
            "layout": "IPY_MODEL_54b5e029793943ecb7bd99bb12e00bac",
            "placeholder": "​",
            "style": "IPY_MODEL_c9296d0cf94b4949b22466c101dd05fd",
            "value": " 69.7k/69.7k [00:00&lt;00:00, 323kB/s]"
          }
        },
        "16072c2e90fd48a9b822d7d18e7d8a71": {
          "model_module": "@jupyter-widgets/base",
          "model_name": "LayoutModel",
          "model_module_version": "1.2.0",
          "state": {
            "_model_module": "@jupyter-widgets/base",
            "_model_module_version": "1.2.0",
            "_model_name": "LayoutModel",
            "_view_count": null,
            "_view_module": "@jupyter-widgets/base",
            "_view_module_version": "1.2.0",
            "_view_name": "LayoutView",
            "align_content": null,
            "align_items": null,
            "align_self": null,
            "border": null,
            "bottom": null,
            "display": null,
            "flex": null,
            "flex_flow": null,
            "grid_area": null,
            "grid_auto_columns": null,
            "grid_auto_flow": null,
            "grid_auto_rows": null,
            "grid_column": null,
            "grid_gap": null,
            "grid_row": null,
            "grid_template_areas": null,
            "grid_template_columns": null,
            "grid_template_rows": null,
            "height": null,
            "justify_content": null,
            "justify_items": null,
            "left": null,
            "margin": null,
            "max_height": null,
            "max_width": null,
            "min_height": null,
            "min_width": null,
            "object_fit": null,
            "object_position": null,
            "order": null,
            "overflow": null,
            "overflow_x": null,
            "overflow_y": null,
            "padding": null,
            "right": null,
            "top": null,
            "visibility": null,
            "width": null
          }
        },
        "62dac8a589894a51adbdd0a0d866618d": {
          "model_module": "@jupyter-widgets/base",
          "model_name": "LayoutModel",
          "model_module_version": "1.2.0",
          "state": {
            "_model_module": "@jupyter-widgets/base",
            "_model_module_version": "1.2.0",
            "_model_name": "LayoutModel",
            "_view_count": null,
            "_view_module": "@jupyter-widgets/base",
            "_view_module_version": "1.2.0",
            "_view_name": "LayoutView",
            "align_content": null,
            "align_items": null,
            "align_self": null,
            "border": null,
            "bottom": null,
            "display": null,
            "flex": null,
            "flex_flow": null,
            "grid_area": null,
            "grid_auto_columns": null,
            "grid_auto_flow": null,
            "grid_auto_rows": null,
            "grid_column": null,
            "grid_gap": null,
            "grid_row": null,
            "grid_template_areas": null,
            "grid_template_columns": null,
            "grid_template_rows": null,
            "height": null,
            "justify_content": null,
            "justify_items": null,
            "left": null,
            "margin": null,
            "max_height": null,
            "max_width": null,
            "min_height": null,
            "min_width": null,
            "object_fit": null,
            "object_position": null,
            "order": null,
            "overflow": null,
            "overflow_x": null,
            "overflow_y": null,
            "padding": null,
            "right": null,
            "top": null,
            "visibility": null,
            "width": null
          }
        },
        "ebd33a1089b04f108132d2c402f5bda7": {
          "model_module": "@jupyter-widgets/controls",
          "model_name": "DescriptionStyleModel",
          "model_module_version": "1.5.0",
          "state": {
            "_model_module": "@jupyter-widgets/controls",
            "_model_module_version": "1.5.0",
            "_model_name": "DescriptionStyleModel",
            "_view_count": null,
            "_view_module": "@jupyter-widgets/base",
            "_view_module_version": "1.2.0",
            "_view_name": "StyleView",
            "description_width": ""
          }
        },
        "5f41229c099c465b854a5a52a6f77c83": {
          "model_module": "@jupyter-widgets/base",
          "model_name": "LayoutModel",
          "model_module_version": "1.2.0",
          "state": {
            "_model_module": "@jupyter-widgets/base",
            "_model_module_version": "1.2.0",
            "_model_name": "LayoutModel",
            "_view_count": null,
            "_view_module": "@jupyter-widgets/base",
            "_view_module_version": "1.2.0",
            "_view_name": "LayoutView",
            "align_content": null,
            "align_items": null,
            "align_self": null,
            "border": null,
            "bottom": null,
            "display": null,
            "flex": null,
            "flex_flow": null,
            "grid_area": null,
            "grid_auto_columns": null,
            "grid_auto_flow": null,
            "grid_auto_rows": null,
            "grid_column": null,
            "grid_gap": null,
            "grid_row": null,
            "grid_template_areas": null,
            "grid_template_columns": null,
            "grid_template_rows": null,
            "height": null,
            "justify_content": null,
            "justify_items": null,
            "left": null,
            "margin": null,
            "max_height": null,
            "max_width": null,
            "min_height": null,
            "min_width": null,
            "object_fit": null,
            "object_position": null,
            "order": null,
            "overflow": null,
            "overflow_x": null,
            "overflow_y": null,
            "padding": null,
            "right": null,
            "top": null,
            "visibility": null,
            "width": null
          }
        },
        "a0f4fcb985a445dc9236421a8c770876": {
          "model_module": "@jupyter-widgets/controls",
          "model_name": "ProgressStyleModel",
          "model_module_version": "1.5.0",
          "state": {
            "_model_module": "@jupyter-widgets/controls",
            "_model_module_version": "1.5.0",
            "_model_name": "ProgressStyleModel",
            "_view_count": null,
            "_view_module": "@jupyter-widgets/base",
            "_view_module_version": "1.2.0",
            "_view_name": "StyleView",
            "bar_color": null,
            "description_width": ""
          }
        },
        "54b5e029793943ecb7bd99bb12e00bac": {
          "model_module": "@jupyter-widgets/base",
          "model_name": "LayoutModel",
          "model_module_version": "1.2.0",
          "state": {
            "_model_module": "@jupyter-widgets/base",
            "_model_module_version": "1.2.0",
            "_model_name": "LayoutModel",
            "_view_count": null,
            "_view_module": "@jupyter-widgets/base",
            "_view_module_version": "1.2.0",
            "_view_name": "LayoutView",
            "align_content": null,
            "align_items": null,
            "align_self": null,
            "border": null,
            "bottom": null,
            "display": null,
            "flex": null,
            "flex_flow": null,
            "grid_area": null,
            "grid_auto_columns": null,
            "grid_auto_flow": null,
            "grid_auto_rows": null,
            "grid_column": null,
            "grid_gap": null,
            "grid_row": null,
            "grid_template_areas": null,
            "grid_template_columns": null,
            "grid_template_rows": null,
            "height": null,
            "justify_content": null,
            "justify_items": null,
            "left": null,
            "margin": null,
            "max_height": null,
            "max_width": null,
            "min_height": null,
            "min_width": null,
            "object_fit": null,
            "object_position": null,
            "order": null,
            "overflow": null,
            "overflow_x": null,
            "overflow_y": null,
            "padding": null,
            "right": null,
            "top": null,
            "visibility": null,
            "width": null
          }
        },
        "c9296d0cf94b4949b22466c101dd05fd": {
          "model_module": "@jupyter-widgets/controls",
          "model_name": "DescriptionStyleModel",
          "model_module_version": "1.5.0",
          "state": {
            "_model_module": "@jupyter-widgets/controls",
            "_model_module_version": "1.5.0",
            "_model_name": "DescriptionStyleModel",
            "_view_count": null,
            "_view_module": "@jupyter-widgets/base",
            "_view_module_version": "1.2.0",
            "_view_name": "StyleView",
            "description_width": ""
          }
        },
        "884f2be01df147a68a781e6404f0a535": {
          "model_module": "@jupyter-widgets/controls",
          "model_name": "HBoxModel",
          "model_module_version": "1.5.0",
          "state": {
            "_dom_classes": [],
            "_model_module": "@jupyter-widgets/controls",
            "_model_module_version": "1.5.0",
            "_model_name": "HBoxModel",
            "_view_count": null,
            "_view_module": "@jupyter-widgets/controls",
            "_view_module_version": "1.5.0",
            "_view_name": "HBoxView",
            "box_style": "",
            "children": [
              "IPY_MODEL_6cb30b5f0ebd40de8f943bd94233f088",
              "IPY_MODEL_9766aa1cc020403ea3239524de42ddc3",
              "IPY_MODEL_b08475d14f0c4c2d9083b05f2b4ae33e"
            ],
            "layout": "IPY_MODEL_15536dfe8e924786998c77d0f6c4c83b"
          }
        },
        "6cb30b5f0ebd40de8f943bd94233f088": {
          "model_module": "@jupyter-widgets/controls",
          "model_name": "HTMLModel",
          "model_module_version": "1.5.0",
          "state": {
            "_dom_classes": [],
            "_model_module": "@jupyter-widgets/controls",
            "_model_module_version": "1.5.0",
            "_model_name": "HTMLModel",
            "_view_count": null,
            "_view_module": "@jupyter-widgets/controls",
            "_view_module_version": "1.5.0",
            "_view_name": "HTMLView",
            "description": "",
            "description_tooltip": null,
            "layout": "IPY_MODEL_2f8336501f6e4f64adcd54ecd7f69863",
            "placeholder": "​",
            "style": "IPY_MODEL_fdabfffcbe444226b866a30cc6253816",
            "value": "model.safetensors: 100%"
          }
        },
        "9766aa1cc020403ea3239524de42ddc3": {
          "model_module": "@jupyter-widgets/controls",
          "model_name": "FloatProgressModel",
          "model_module_version": "1.5.0",
          "state": {
            "_dom_classes": [],
            "_model_module": "@jupyter-widgets/controls",
            "_model_module_version": "1.5.0",
            "_model_name": "FloatProgressModel",
            "_view_count": null,
            "_view_module": "@jupyter-widgets/controls",
            "_view_module_version": "1.5.0",
            "_view_name": "ProgressView",
            "bar_style": "success",
            "description": "",
            "description_tooltip": null,
            "layout": "IPY_MODEL_0488416a32aa4e3a9aee44edd499aba9",
            "max": 346293852,
            "min": 0,
            "orientation": "horizontal",
            "style": "IPY_MODEL_92ada13647864e3eba94dfd8e5c371fb",
            "value": 346293852
          }
        },
        "b08475d14f0c4c2d9083b05f2b4ae33e": {
          "model_module": "@jupyter-widgets/controls",
          "model_name": "HTMLModel",
          "model_module_version": "1.5.0",
          "state": {
            "_dom_classes": [],
            "_model_module": "@jupyter-widgets/controls",
            "_model_module_version": "1.5.0",
            "_model_name": "HTMLModel",
            "_view_count": null,
            "_view_module": "@jupyter-widgets/controls",
            "_view_module_version": "1.5.0",
            "_view_name": "HTMLView",
            "description": "",
            "description_tooltip": null,
            "layout": "IPY_MODEL_c2d06ab1ec514058bbaa837dd6d5ad67",
            "placeholder": "​",
            "style": "IPY_MODEL_75c0e79b1a4346e4916f953e3d489a07",
            "value": " 346M/346M [00:01&lt;00:00, 240MB/s]"
          }
        },
        "15536dfe8e924786998c77d0f6c4c83b": {
          "model_module": "@jupyter-widgets/base",
          "model_name": "LayoutModel",
          "model_module_version": "1.2.0",
          "state": {
            "_model_module": "@jupyter-widgets/base",
            "_model_module_version": "1.2.0",
            "_model_name": "LayoutModel",
            "_view_count": null,
            "_view_module": "@jupyter-widgets/base",
            "_view_module_version": "1.2.0",
            "_view_name": "LayoutView",
            "align_content": null,
            "align_items": null,
            "align_self": null,
            "border": null,
            "bottom": null,
            "display": null,
            "flex": null,
            "flex_flow": null,
            "grid_area": null,
            "grid_auto_columns": null,
            "grid_auto_flow": null,
            "grid_auto_rows": null,
            "grid_column": null,
            "grid_gap": null,
            "grid_row": null,
            "grid_template_areas": null,
            "grid_template_columns": null,
            "grid_template_rows": null,
            "height": null,
            "justify_content": null,
            "justify_items": null,
            "left": null,
            "margin": null,
            "max_height": null,
            "max_width": null,
            "min_height": null,
            "min_width": null,
            "object_fit": null,
            "object_position": null,
            "order": null,
            "overflow": null,
            "overflow_x": null,
            "overflow_y": null,
            "padding": null,
            "right": null,
            "top": null,
            "visibility": null,
            "width": null
          }
        },
        "2f8336501f6e4f64adcd54ecd7f69863": {
          "model_module": "@jupyter-widgets/base",
          "model_name": "LayoutModel",
          "model_module_version": "1.2.0",
          "state": {
            "_model_module": "@jupyter-widgets/base",
            "_model_module_version": "1.2.0",
            "_model_name": "LayoutModel",
            "_view_count": null,
            "_view_module": "@jupyter-widgets/base",
            "_view_module_version": "1.2.0",
            "_view_name": "LayoutView",
            "align_content": null,
            "align_items": null,
            "align_self": null,
            "border": null,
            "bottom": null,
            "display": null,
            "flex": null,
            "flex_flow": null,
            "grid_area": null,
            "grid_auto_columns": null,
            "grid_auto_flow": null,
            "grid_auto_rows": null,
            "grid_column": null,
            "grid_gap": null,
            "grid_row": null,
            "grid_template_areas": null,
            "grid_template_columns": null,
            "grid_template_rows": null,
            "height": null,
            "justify_content": null,
            "justify_items": null,
            "left": null,
            "margin": null,
            "max_height": null,
            "max_width": null,
            "min_height": null,
            "min_width": null,
            "object_fit": null,
            "object_position": null,
            "order": null,
            "overflow": null,
            "overflow_x": null,
            "overflow_y": null,
            "padding": null,
            "right": null,
            "top": null,
            "visibility": null,
            "width": null
          }
        },
        "fdabfffcbe444226b866a30cc6253816": {
          "model_module": "@jupyter-widgets/controls",
          "model_name": "DescriptionStyleModel",
          "model_module_version": "1.5.0",
          "state": {
            "_model_module": "@jupyter-widgets/controls",
            "_model_module_version": "1.5.0",
            "_model_name": "DescriptionStyleModel",
            "_view_count": null,
            "_view_module": "@jupyter-widgets/base",
            "_view_module_version": "1.2.0",
            "_view_name": "StyleView",
            "description_width": ""
          }
        },
        "0488416a32aa4e3a9aee44edd499aba9": {
          "model_module": "@jupyter-widgets/base",
          "model_name": "LayoutModel",
          "model_module_version": "1.2.0",
          "state": {
            "_model_module": "@jupyter-widgets/base",
            "_model_module_version": "1.2.0",
            "_model_name": "LayoutModel",
            "_view_count": null,
            "_view_module": "@jupyter-widgets/base",
            "_view_module_version": "1.2.0",
            "_view_name": "LayoutView",
            "align_content": null,
            "align_items": null,
            "align_self": null,
            "border": null,
            "bottom": null,
            "display": null,
            "flex": null,
            "flex_flow": null,
            "grid_area": null,
            "grid_auto_columns": null,
            "grid_auto_flow": null,
            "grid_auto_rows": null,
            "grid_column": null,
            "grid_gap": null,
            "grid_row": null,
            "grid_template_areas": null,
            "grid_template_columns": null,
            "grid_template_rows": null,
            "height": null,
            "justify_content": null,
            "justify_items": null,
            "left": null,
            "margin": null,
            "max_height": null,
            "max_width": null,
            "min_height": null,
            "min_width": null,
            "object_fit": null,
            "object_position": null,
            "order": null,
            "overflow": null,
            "overflow_x": null,
            "overflow_y": null,
            "padding": null,
            "right": null,
            "top": null,
            "visibility": null,
            "width": null
          }
        },
        "92ada13647864e3eba94dfd8e5c371fb": {
          "model_module": "@jupyter-widgets/controls",
          "model_name": "ProgressStyleModel",
          "model_module_version": "1.5.0",
          "state": {
            "_model_module": "@jupyter-widgets/controls",
            "_model_module_version": "1.5.0",
            "_model_name": "ProgressStyleModel",
            "_view_count": null,
            "_view_module": "@jupyter-widgets/base",
            "_view_module_version": "1.2.0",
            "_view_name": "StyleView",
            "bar_color": null,
            "description_width": ""
          }
        },
        "c2d06ab1ec514058bbaa837dd6d5ad67": {
          "model_module": "@jupyter-widgets/base",
          "model_name": "LayoutModel",
          "model_module_version": "1.2.0",
          "state": {
            "_model_module": "@jupyter-widgets/base",
            "_model_module_version": "1.2.0",
            "_model_name": "LayoutModel",
            "_view_count": null,
            "_view_module": "@jupyter-widgets/base",
            "_view_module_version": "1.2.0",
            "_view_name": "LayoutView",
            "align_content": null,
            "align_items": null,
            "align_self": null,
            "border": null,
            "bottom": null,
            "display": null,
            "flex": null,
            "flex_flow": null,
            "grid_area": null,
            "grid_auto_columns": null,
            "grid_auto_flow": null,
            "grid_auto_rows": null,
            "grid_column": null,
            "grid_gap": null,
            "grid_row": null,
            "grid_template_areas": null,
            "grid_template_columns": null,
            "grid_template_rows": null,
            "height": null,
            "justify_content": null,
            "justify_items": null,
            "left": null,
            "margin": null,
            "max_height": null,
            "max_width": null,
            "min_height": null,
            "min_width": null,
            "object_fit": null,
            "object_position": null,
            "order": null,
            "overflow": null,
            "overflow_x": null,
            "overflow_y": null,
            "padding": null,
            "right": null,
            "top": null,
            "visibility": null,
            "width": null
          }
        },
        "75c0e79b1a4346e4916f953e3d489a07": {
          "model_module": "@jupyter-widgets/controls",
          "model_name": "DescriptionStyleModel",
          "model_module_version": "1.5.0",
          "state": {
            "_model_module": "@jupyter-widgets/controls",
            "_model_module_version": "1.5.0",
            "_model_name": "DescriptionStyleModel",
            "_view_count": null,
            "_view_module": "@jupyter-widgets/base",
            "_view_module_version": "1.2.0",
            "_view_name": "StyleView",
            "description_width": ""
          }
        }
      }
    },
    "accelerator": "GPU"
  },
  "cells": [
    {
      "cell_type": "markdown",
      "source": [
        "# Training of Vision Transformer for Brain Tumor Classification"
      ],
      "metadata": {
        "id": "0BF1ZYdQoZm1"
      }
    },
    {
      "cell_type": "markdown",
      "source": [
        "Construct MRI data pipeline that pre-process and augment brain images; train a Vision Transformer, ViT -based classification model on labeled images with and without brain tumors; use trained model for inference and plot a confusion matrix."
      ],
      "metadata": {
        "id": "MSmqy1JzqEml"
      }
    },
    {
      "cell_type": "code",
      "source": [
        "!pip install datasets transformers torchvision"
      ],
      "metadata": {
        "id": "BAra3qibKIOX",
        "collapsed": true,
        "colab": {
          "base_uri": "https://localhost:8080/"
        },
        "outputId": "543ba97f-8ad5-4139-8c6c-5f2aae613936"
      },
      "execution_count": null,
      "outputs": [
        {
          "output_type": "stream",
          "name": "stdout",
          "text": [
            "Collecting datasets\n",
            "  Downloading datasets-3.2.0-py3-none-any.whl.metadata (20 kB)\n",
            "Requirement already satisfied: transformers in /usr/local/lib/python3.10/dist-packages (4.47.1)\n",
            "Requirement already satisfied: torchvision in /usr/local/lib/python3.10/dist-packages (0.20.1+cu121)\n",
            "Requirement already satisfied: filelock in /usr/local/lib/python3.10/dist-packages (from datasets) (3.16.1)\n",
            "Requirement already satisfied: numpy>=1.17 in /usr/local/lib/python3.10/dist-packages (from datasets) (1.26.4)\n",
            "Requirement already satisfied: pyarrow>=15.0.0 in /usr/local/lib/python3.10/dist-packages (from datasets) (17.0.0)\n",
            "Collecting dill<0.3.9,>=0.3.0 (from datasets)\n",
            "  Downloading dill-0.3.8-py3-none-any.whl.metadata (10 kB)\n",
            "Requirement already satisfied: pandas in /usr/local/lib/python3.10/dist-packages (from datasets) (2.2.2)\n",
            "Requirement already satisfied: requests>=2.32.2 in /usr/local/lib/python3.10/dist-packages (from datasets) (2.32.3)\n",
            "Requirement already satisfied: tqdm>=4.66.3 in /usr/local/lib/python3.10/dist-packages (from datasets) (4.67.1)\n",
            "Collecting xxhash (from datasets)\n",
            "  Downloading xxhash-3.5.0-cp310-cp310-manylinux_2_17_x86_64.manylinux2014_x86_64.whl.metadata (12 kB)\n",
            "Collecting multiprocess<0.70.17 (from datasets)\n",
            "  Downloading multiprocess-0.70.16-py310-none-any.whl.metadata (7.2 kB)\n",
            "Collecting fsspec<=2024.9.0,>=2023.1.0 (from fsspec[http]<=2024.9.0,>=2023.1.0->datasets)\n",
            "  Downloading fsspec-2024.9.0-py3-none-any.whl.metadata (11 kB)\n",
            "Requirement already satisfied: aiohttp in /usr/local/lib/python3.10/dist-packages (from datasets) (3.11.10)\n",
            "Requirement already satisfied: huggingface-hub>=0.23.0 in /usr/local/lib/python3.10/dist-packages (from datasets) (0.27.0)\n",
            "Requirement already satisfied: packaging in /usr/local/lib/python3.10/dist-packages (from datasets) (24.2)\n",
            "Requirement already satisfied: pyyaml>=5.1 in /usr/local/lib/python3.10/dist-packages (from datasets) (6.0.2)\n",
            "Requirement already satisfied: regex!=2019.12.17 in /usr/local/lib/python3.10/dist-packages (from transformers) (2024.11.6)\n",
            "Requirement already satisfied: tokenizers<0.22,>=0.21 in /usr/local/lib/python3.10/dist-packages (from transformers) (0.21.0)\n",
            "Requirement already satisfied: safetensors>=0.4.1 in /usr/local/lib/python3.10/dist-packages (from transformers) (0.4.5)\n",
            "Requirement already satisfied: torch==2.5.1 in /usr/local/lib/python3.10/dist-packages (from torchvision) (2.5.1+cu121)\n",
            "Requirement already satisfied: pillow!=8.3.*,>=5.3.0 in /usr/local/lib/python3.10/dist-packages (from torchvision) (11.0.0)\n",
            "Requirement already satisfied: typing-extensions>=4.8.0 in /usr/local/lib/python3.10/dist-packages (from torch==2.5.1->torchvision) (4.12.2)\n",
            "Requirement already satisfied: networkx in /usr/local/lib/python3.10/dist-packages (from torch==2.5.1->torchvision) (3.4.2)\n",
            "Requirement already satisfied: jinja2 in /usr/local/lib/python3.10/dist-packages (from torch==2.5.1->torchvision) (3.1.4)\n",
            "Requirement already satisfied: sympy==1.13.1 in /usr/local/lib/python3.10/dist-packages (from torch==2.5.1->torchvision) (1.13.1)\n",
            "Requirement already satisfied: mpmath<1.4,>=1.1.0 in /usr/local/lib/python3.10/dist-packages (from sympy==1.13.1->torch==2.5.1->torchvision) (1.3.0)\n",
            "Requirement already satisfied: aiohappyeyeballs>=2.3.0 in /usr/local/lib/python3.10/dist-packages (from aiohttp->datasets) (2.4.4)\n",
            "Requirement already satisfied: aiosignal>=1.1.2 in /usr/local/lib/python3.10/dist-packages (from aiohttp->datasets) (1.3.2)\n",
            "Requirement already satisfied: async-timeout<6.0,>=4.0 in /usr/local/lib/python3.10/dist-packages (from aiohttp->datasets) (4.0.3)\n",
            "Requirement already satisfied: attrs>=17.3.0 in /usr/local/lib/python3.10/dist-packages (from aiohttp->datasets) (24.3.0)\n",
            "Requirement already satisfied: frozenlist>=1.1.1 in /usr/local/lib/python3.10/dist-packages (from aiohttp->datasets) (1.5.0)\n",
            "Requirement already satisfied: multidict<7.0,>=4.5 in /usr/local/lib/python3.10/dist-packages (from aiohttp->datasets) (6.1.0)\n",
            "Requirement already satisfied: propcache>=0.2.0 in /usr/local/lib/python3.10/dist-packages (from aiohttp->datasets) (0.2.1)\n",
            "Requirement already satisfied: yarl<2.0,>=1.17.0 in /usr/local/lib/python3.10/dist-packages (from aiohttp->datasets) (1.18.3)\n",
            "Requirement already satisfied: charset-normalizer<4,>=2 in /usr/local/lib/python3.10/dist-packages (from requests>=2.32.2->datasets) (3.4.0)\n",
            "Requirement already satisfied: idna<4,>=2.5 in /usr/local/lib/python3.10/dist-packages (from requests>=2.32.2->datasets) (3.10)\n",
            "Requirement already satisfied: urllib3<3,>=1.21.1 in /usr/local/lib/python3.10/dist-packages (from requests>=2.32.2->datasets) (2.2.3)\n",
            "Requirement already satisfied: certifi>=2017.4.17 in /usr/local/lib/python3.10/dist-packages (from requests>=2.32.2->datasets) (2024.12.14)\n",
            "Requirement already satisfied: python-dateutil>=2.8.2 in /usr/local/lib/python3.10/dist-packages (from pandas->datasets) (2.8.2)\n",
            "Requirement already satisfied: pytz>=2020.1 in /usr/local/lib/python3.10/dist-packages (from pandas->datasets) (2024.2)\n",
            "Requirement already satisfied: tzdata>=2022.7 in /usr/local/lib/python3.10/dist-packages (from pandas->datasets) (2024.2)\n",
            "Requirement already satisfied: six>=1.5 in /usr/local/lib/python3.10/dist-packages (from python-dateutil>=2.8.2->pandas->datasets) (1.17.0)\n",
            "Requirement already satisfied: MarkupSafe>=2.0 in /usr/local/lib/python3.10/dist-packages (from jinja2->torch==2.5.1->torchvision) (3.0.2)\n",
            "Downloading datasets-3.2.0-py3-none-any.whl (480 kB)\n",
            "\u001b[2K   \u001b[90m━━━━━━━━━━━━━━━━━━━━━━━━━━━━━━━━━━━━━━━━\u001b[0m \u001b[32m480.6/480.6 kB\u001b[0m \u001b[31m24.5 MB/s\u001b[0m eta \u001b[36m0:00:00\u001b[0m\n",
            "\u001b[?25hDownloading dill-0.3.8-py3-none-any.whl (116 kB)\n",
            "\u001b[2K   \u001b[90m━━━━━━━━━━━━━━━━━━━━━━━━━━━━━━━━━━━━━━━━\u001b[0m \u001b[32m116.3/116.3 kB\u001b[0m \u001b[31m10.5 MB/s\u001b[0m eta \u001b[36m0:00:00\u001b[0m\n",
            "\u001b[?25hDownloading fsspec-2024.9.0-py3-none-any.whl (179 kB)\n",
            "\u001b[2K   \u001b[90m━━━━━━━━━━━━━━━━━━━━━━━━━━━━━━━━━━━━━━━━\u001b[0m \u001b[32m179.3/179.3 kB\u001b[0m \u001b[31m12.6 MB/s\u001b[0m eta \u001b[36m0:00:00\u001b[0m\n",
            "\u001b[?25hDownloading multiprocess-0.70.16-py310-none-any.whl (134 kB)\n",
            "\u001b[2K   \u001b[90m━━━━━━━━━━━━━━━━━━━━━━━━━━━━━━━━━━━━━━━━\u001b[0m \u001b[32m134.8/134.8 kB\u001b[0m \u001b[31m9.9 MB/s\u001b[0m eta \u001b[36m0:00:00\u001b[0m\n",
            "\u001b[?25hDownloading xxhash-3.5.0-cp310-cp310-manylinux_2_17_x86_64.manylinux2014_x86_64.whl (194 kB)\n",
            "\u001b[2K   \u001b[90m━━━━━━━━━━━━━━━━━━━━━━━━━━━━━━━━━━━━━━━━\u001b[0m \u001b[32m194.1/194.1 kB\u001b[0m \u001b[31m16.1 MB/s\u001b[0m eta \u001b[36m0:00:00\u001b[0m\n",
            "\u001b[?25hInstalling collected packages: xxhash, fsspec, dill, multiprocess, datasets\n",
            "  Attempting uninstall: fsspec\n",
            "    Found existing installation: fsspec 2024.10.0\n",
            "    Uninstalling fsspec-2024.10.0:\n",
            "      Successfully uninstalled fsspec-2024.10.0\n",
            "\u001b[31mERROR: pip's dependency resolver does not currently take into account all the packages that are installed. This behaviour is the source of the following dependency conflicts.\n",
            "gcsfs 2024.10.0 requires fsspec==2024.10.0, but you have fsspec 2024.9.0 which is incompatible.\u001b[0m\u001b[31m\n",
            "\u001b[0mSuccessfully installed datasets-3.2.0 dill-0.3.8 fsspec-2024.9.0 multiprocess-0.70.16 xxhash-3.5.0\n"
          ]
        }
      ]
    },
    {
      "cell_type": "code",
      "source": [
        "!pip install torch"
      ],
      "metadata": {
        "colab": {
          "base_uri": "https://localhost:8080/"
        },
        "id": "WlhjitdesBvp",
        "outputId": "91823b3d-6482-4f99-960b-5f37be477c9e"
      },
      "execution_count": null,
      "outputs": [
        {
          "output_type": "stream",
          "name": "stdout",
          "text": [
            "Requirement already satisfied: torch in /usr/local/lib/python3.10/dist-packages (2.5.1+cu121)\n",
            "Requirement already satisfied: filelock in /usr/local/lib/python3.10/dist-packages (from torch) (3.16.1)\n",
            "Requirement already satisfied: typing-extensions>=4.8.0 in /usr/local/lib/python3.10/dist-packages (from torch) (4.12.2)\n",
            "Requirement already satisfied: networkx in /usr/local/lib/python3.10/dist-packages (from torch) (3.4.2)\n",
            "Requirement already satisfied: jinja2 in /usr/local/lib/python3.10/dist-packages (from torch) (3.1.4)\n",
            "Requirement already satisfied: fsspec in /usr/local/lib/python3.10/dist-packages (from torch) (2024.9.0)\n",
            "Requirement already satisfied: sympy==1.13.1 in /usr/local/lib/python3.10/dist-packages (from torch) (1.13.1)\n",
            "Requirement already satisfied: mpmath<1.4,>=1.1.0 in /usr/local/lib/python3.10/dist-packages (from sympy==1.13.1->torch) (1.3.0)\n",
            "Requirement already satisfied: MarkupSafe>=2.0 in /usr/local/lib/python3.10/dist-packages (from jinja2->torch) (3.0.2)\n"
          ]
        }
      ]
    },
    {
      "cell_type": "markdown",
      "source": [
        "Check if GPU is being used"
      ],
      "metadata": {
        "id": "STonqd0zO36P"
      }
    },
    {
      "cell_type": "code",
      "source": [
        "!pip install evaluate"
      ],
      "metadata": {
        "colab": {
          "base_uri": "https://localhost:8080/"
        },
        "collapsed": true,
        "id": "_UQVRXmjKZBp",
        "outputId": "8ab5d9f7-c29f-40bc-8af2-e2875f7f58a6"
      },
      "execution_count": null,
      "outputs": [
        {
          "output_type": "stream",
          "name": "stdout",
          "text": [
            "Collecting evaluate\n",
            "  Downloading evaluate-0.4.3-py3-none-any.whl.metadata (9.2 kB)\n",
            "Requirement already satisfied: datasets>=2.0.0 in /usr/local/lib/python3.10/dist-packages (from evaluate) (3.2.0)\n",
            "Requirement already satisfied: numpy>=1.17 in /usr/local/lib/python3.10/dist-packages (from evaluate) (1.26.4)\n",
            "Requirement already satisfied: dill in /usr/local/lib/python3.10/dist-packages (from evaluate) (0.3.8)\n",
            "Requirement already satisfied: pandas in /usr/local/lib/python3.10/dist-packages (from evaluate) (2.2.2)\n",
            "Requirement already satisfied: requests>=2.19.0 in /usr/local/lib/python3.10/dist-packages (from evaluate) (2.32.3)\n",
            "Requirement already satisfied: tqdm>=4.62.1 in /usr/local/lib/python3.10/dist-packages (from evaluate) (4.67.1)\n",
            "Requirement already satisfied: xxhash in /usr/local/lib/python3.10/dist-packages (from evaluate) (3.5.0)\n",
            "Requirement already satisfied: multiprocess in /usr/local/lib/python3.10/dist-packages (from evaluate) (0.70.16)\n",
            "Requirement already satisfied: fsspec>=2021.05.0 in /usr/local/lib/python3.10/dist-packages (from fsspec[http]>=2021.05.0->evaluate) (2024.9.0)\n",
            "Requirement already satisfied: huggingface-hub>=0.7.0 in /usr/local/lib/python3.10/dist-packages (from evaluate) (0.27.0)\n",
            "Requirement already satisfied: packaging in /usr/local/lib/python3.10/dist-packages (from evaluate) (24.2)\n",
            "Requirement already satisfied: filelock in /usr/local/lib/python3.10/dist-packages (from datasets>=2.0.0->evaluate) (3.16.1)\n",
            "Requirement already satisfied: pyarrow>=15.0.0 in /usr/local/lib/python3.10/dist-packages (from datasets>=2.0.0->evaluate) (17.0.0)\n",
            "Requirement already satisfied: aiohttp in /usr/local/lib/python3.10/dist-packages (from datasets>=2.0.0->evaluate) (3.11.10)\n",
            "Requirement already satisfied: pyyaml>=5.1 in /usr/local/lib/python3.10/dist-packages (from datasets>=2.0.0->evaluate) (6.0.2)\n",
            "Requirement already satisfied: typing-extensions>=3.7.4.3 in /usr/local/lib/python3.10/dist-packages (from huggingface-hub>=0.7.0->evaluate) (4.12.2)\n",
            "Requirement already satisfied: charset-normalizer<4,>=2 in /usr/local/lib/python3.10/dist-packages (from requests>=2.19.0->evaluate) (3.4.0)\n",
            "Requirement already satisfied: idna<4,>=2.5 in /usr/local/lib/python3.10/dist-packages (from requests>=2.19.0->evaluate) (3.10)\n",
            "Requirement already satisfied: urllib3<3,>=1.21.1 in /usr/local/lib/python3.10/dist-packages (from requests>=2.19.0->evaluate) (2.2.3)\n",
            "Requirement already satisfied: certifi>=2017.4.17 in /usr/local/lib/python3.10/dist-packages (from requests>=2.19.0->evaluate) (2024.12.14)\n",
            "Requirement already satisfied: python-dateutil>=2.8.2 in /usr/local/lib/python3.10/dist-packages (from pandas->evaluate) (2.8.2)\n",
            "Requirement already satisfied: pytz>=2020.1 in /usr/local/lib/python3.10/dist-packages (from pandas->evaluate) (2024.2)\n",
            "Requirement already satisfied: tzdata>=2022.7 in /usr/local/lib/python3.10/dist-packages (from pandas->evaluate) (2024.2)\n",
            "Requirement already satisfied: aiohappyeyeballs>=2.3.0 in /usr/local/lib/python3.10/dist-packages (from aiohttp->datasets>=2.0.0->evaluate) (2.4.4)\n",
            "Requirement already satisfied: aiosignal>=1.1.2 in /usr/local/lib/python3.10/dist-packages (from aiohttp->datasets>=2.0.0->evaluate) (1.3.2)\n",
            "Requirement already satisfied: async-timeout<6.0,>=4.0 in /usr/local/lib/python3.10/dist-packages (from aiohttp->datasets>=2.0.0->evaluate) (4.0.3)\n",
            "Requirement already satisfied: attrs>=17.3.0 in /usr/local/lib/python3.10/dist-packages (from aiohttp->datasets>=2.0.0->evaluate) (24.3.0)\n",
            "Requirement already satisfied: frozenlist>=1.1.1 in /usr/local/lib/python3.10/dist-packages (from aiohttp->datasets>=2.0.0->evaluate) (1.5.0)\n",
            "Requirement already satisfied: multidict<7.0,>=4.5 in /usr/local/lib/python3.10/dist-packages (from aiohttp->datasets>=2.0.0->evaluate) (6.1.0)\n",
            "Requirement already satisfied: propcache>=0.2.0 in /usr/local/lib/python3.10/dist-packages (from aiohttp->datasets>=2.0.0->evaluate) (0.2.1)\n",
            "Requirement already satisfied: yarl<2.0,>=1.17.0 in /usr/local/lib/python3.10/dist-packages (from aiohttp->datasets>=2.0.0->evaluate) (1.18.3)\n",
            "Requirement already satisfied: six>=1.5 in /usr/local/lib/python3.10/dist-packages (from python-dateutil>=2.8.2->pandas->evaluate) (1.17.0)\n",
            "Downloading evaluate-0.4.3-py3-none-any.whl (84 kB)\n",
            "\u001b[2K   \u001b[90m━━━━━━━━━━━━━━━━━━━━━━━━━━━━━━━━━━━━━━━━\u001b[0m \u001b[32m84.0/84.0 kB\u001b[0m \u001b[31m7.1 MB/s\u001b[0m eta \u001b[36m0:00:00\u001b[0m\n",
            "\u001b[?25hInstalling collected packages: evaluate\n",
            "Successfully installed evaluate-0.4.3\n"
          ]
        }
      ]
    },
    {
      "cell_type": "code",
      "source": [
        "!nvidia-smi"
      ],
      "metadata": {
        "id": "aW8L4dIw9YNP",
        "colab": {
          "base_uri": "https://localhost:8080/"
        },
        "outputId": "6739fce8-a8aa-4aa5-d5ec-a474de3eea09"
      },
      "execution_count": null,
      "outputs": [
        {
          "output_type": "stream",
          "name": "stdout",
          "text": [
            "Mon Jan  6 19:49:14 2025       \n",
            "+---------------------------------------------------------------------------------------+\n",
            "| NVIDIA-SMI 535.104.05             Driver Version: 535.104.05   CUDA Version: 12.2     |\n",
            "|-----------------------------------------+----------------------+----------------------+\n",
            "| GPU  Name                 Persistence-M | Bus-Id        Disp.A | Volatile Uncorr. ECC |\n",
            "| Fan  Temp   Perf          Pwr:Usage/Cap |         Memory-Usage | GPU-Util  Compute M. |\n",
            "|                                         |                      |               MIG M. |\n",
            "|=========================================+======================+======================|\n",
            "|   0  Tesla T4                       Off | 00000000:00:04.0 Off |                    0 |\n",
            "| N/A   50C    P8               9W /  70W |      0MiB / 15360MiB |      0%      Default |\n",
            "|                                         |                      |                  N/A |\n",
            "+-----------------------------------------+----------------------+----------------------+\n",
            "                                                                                         \n",
            "+---------------------------------------------------------------------------------------+\n",
            "| Processes:                                                                            |\n",
            "|  GPU   GI   CI        PID   Type   Process name                            GPU Memory |\n",
            "|        ID   ID                                                             Usage      |\n",
            "|=======================================================================================|\n",
            "|  No running processes found                                                           |\n",
            "+---------------------------------------------------------------------------------------+\n"
          ]
        }
      ]
    },
    {
      "cell_type": "code",
      "source": [
        "from google.colab import drive\n",
        "\n",
        "drive.mount('/content/drive')"
      ],
      "metadata": {
        "colab": {
          "base_uri": "https://localhost:8080/"
        },
        "id": "sPm9G7WBfZfk",
        "outputId": "d70ec3a1-f971-4b68-8c1d-a1146d14aee6"
      },
      "execution_count": null,
      "outputs": [
        {
          "output_type": "stream",
          "name": "stdout",
          "text": [
            "Mounted at /content/drive\n"
          ]
        }
      ]
    },
    {
      "cell_type": "code",
      "source": [
        "%cd drive/MyDrive/ColabNotebooks/ExplainableAI"
      ],
      "metadata": {
        "colab": {
          "base_uri": "https://localhost:8080/"
        },
        "id": "s5GXAjY7f5SO",
        "outputId": "3c678d92-c5e4-4cf6-abfc-83e2a0aae380"
      },
      "execution_count": null,
      "outputs": [
        {
          "output_type": "stream",
          "name": "stdout",
          "text": [
            "/content/drive/MyDrive/ColabNotebooks/ExplainableAI\n"
          ]
        }
      ]
    },
    {
      "cell_type": "code",
      "source": [
        "import glob\n",
        "import pandas as pd\n",
        "import random\n",
        "import cv2\n",
        "import numpy as np\n",
        "import matplotlib.pyplot as plt\n"
      ],
      "metadata": {
        "id": "fP9Joo35WT86"
      },
      "execution_count": null,
      "outputs": []
    },
    {
      "cell_type": "markdown",
      "source": [
        "## 1. Load and split MRI dataset"
      ],
      "metadata": {
        "id": "cFjvDpjjo972"
      }
    },
    {
      "cell_type": "markdown",
      "source": [
        "Load dataset using Hugging Face datasets library"
      ],
      "metadata": {
        "id": "oqibXRIp9Abo"
      }
    },
    {
      "cell_type": "markdown",
      "source": [
        "### Set datasets paths"
      ],
      "metadata": {
        "id": "Dz5vSu3ds6CE"
      }
    },
    {
      "cell_type": "code",
      "source": [
        "from datasets import load_dataset, Image\n",
        "\n",
        "# Huggingface datasets load_dataset loads local files and split\n",
        "data = load_dataset(\"imagefolder\", data_dir=\"mri_data_full\")"
      ],
      "metadata": {
        "id": "_4LV1m3R-HDn",
        "colab": {
          "base_uri": "https://localhost:8080/",
          "height": 209,
          "referenced_widgets": [
            "3f8467f872f1429086d88950480bfe65",
            "4ce6f9bf9225435293bd7353a7d1d02e",
            "913732a4d2df4a43bdfa74515ca8f3af",
            "23dd1b6c6a0448fa8ca88dcbe50e0098",
            "98f4cd886b7046328613ce6ed701b13b",
            "31e0d5c0db5144f689c1a388ccc8ca6c",
            "86db3d61987c477ea66ac8be670832af",
            "678e89ce09164e98a8241b1d03c74856",
            "465e5bee54f6486385da6557ba65b5b4",
            "df74aafce14348b0b31d0a3921be040d",
            "013e15ddef35461687f5582c159f5c0f",
            "23aa0cd2e8d1447ea9e045db11d76502",
            "bcabd396ca4c4c68976a2c4a693a415d",
            "96e6b286902e4988987630bf9f6f390b",
            "e7c0a87ed64747489d82fa6b03da8517",
            "1094afdd10fd4a9d8e9f5cb116524778",
            "70315f18c8f14311873b0f347a288c06",
            "c2ae26da7045415a91c9ca35c0c8155c",
            "f1badca4fffd4cb48f2bdedaac3bf5ae",
            "90441b5de7d34825a8b1e5d54b7ac669",
            "2c13a067150549cc846ac14fa27ec02a",
            "e278ce17673f42b2aff7bd1c2084cc0f",
            "a167aa8bbe0c4292b1b692bd392929e5",
            "659b50637c0c4644a93f52878ae2a583",
            "d4fab820c9884821b6a2703b50b86ca1",
            "5e6b5e4b100f47e7bcba4f851e1c3d3e",
            "16268955a4f44fcd8c59293e133c5254",
            "ffb78b01c5804ddd8200569d483012ba",
            "61695bcb1d6b4faeba1b27bac289a60a",
            "bf6b5712faea42dd88b6e9315e1e26f6",
            "dfd966271521475fb13c4f698b4b5df1",
            "f014385279124fa88ea8549de3c4c485",
            "eab74a68d747491b9a780a4de045a023",
            "55086d547e22406381045af2356112e3",
            "0f06aa0a1076411ea71f0b20eaf6822d",
            "777960a43d1f4274af1a37cdb0f7c97f",
            "925066e0871148eba9e5fdea2ccccae5",
            "ab93528717b34db694f3a16adbb5a5db",
            "97ab28269afc439f8b447d13e72c63ca",
            "218a171cd213463f9b93d395df504219",
            "5d6782a16468488da8c822aa261f899d",
            "063e1f2f41d04bc6b61fa91e23cf4007",
            "5551eadd66b041ba8bc9bf43afce5233",
            "10206b56ba1e47f1a68750d88c2f8117",
            "9378f079d1474dadb44efbb645455a49",
            "8b1a3b0b2be94dd39a42158062d89823",
            "26f1183904774f69984a967dd3291ca8",
            "cf817a85665748fbb2972d2bb1b7a425",
            "994b1de44bcc4045b36271ea2776e9a3",
            "1fff56d09b764d73965411fc40405553",
            "89153b18bc9c4938b40d1b76a36f0bb0",
            "384dd94a4da747b5a9abc5f4b9b896d5",
            "babed84ec6fd4de99083518a231a5074",
            "d59f9671a28e46b185aeaab2a8ac5188",
            "fee4c63140034dfa90f21c1ddb06292f",
            "0bf413ff53fc4c7d89cc5d6e1566cb9d",
            "af1547f1debe4e179f4b682f2f73df87",
            "86ec3332b0864d7f881cc9e58c699e80",
            "7a28eba6de304eaaa02775da7879ee97",
            "5dbf8ecf8ea740f6b196ecc211d9744d",
            "edf1afbbc90c483ca187208f0ce16472",
            "d418f759b7b948d89da2843dcffacfab",
            "9a40db23e65d4f689be8c8c40690b722",
            "6f56d33f90b9410bb5b2307ad3455832",
            "593c0ebfdbcf4d9a9620fbec054199af",
            "c5852427502d4859b2880b746a268cd8"
          ]
        },
        "outputId": "4702abb2-a0bd-48aa-cde9-e4432030a3a4"
      },
      "execution_count": null,
      "outputs": [
        {
          "output_type": "display_data",
          "data": {
            "text/plain": [
              "Resolving data files:   0%|          | 0/2934 [00:00<?, ?it/s]"
            ],
            "application/vnd.jupyter.widget-view+json": {
              "version_major": 2,
              "version_minor": 0,
              "model_id": "3f8467f872f1429086d88950480bfe65"
            }
          },
          "metadata": {}
        },
        {
          "output_type": "display_data",
          "data": {
            "text/plain": [
              "Resolving data files:   0%|          | 0/711 [00:00<?, ?it/s]"
            ],
            "application/vnd.jupyter.widget-view+json": {
              "version_major": 2,
              "version_minor": 0,
              "model_id": "23aa0cd2e8d1447ea9e045db11d76502"
            }
          },
          "metadata": {}
        },
        {
          "output_type": "display_data",
          "data": {
            "text/plain": [
              "Downloading data:   0%|          | 0/2934 [00:00<?, ?files/s]"
            ],
            "application/vnd.jupyter.widget-view+json": {
              "version_major": 2,
              "version_minor": 0,
              "model_id": "a167aa8bbe0c4292b1b692bd392929e5"
            }
          },
          "metadata": {}
        },
        {
          "output_type": "display_data",
          "data": {
            "text/plain": [
              "Downloading data:   0%|          | 0/711 [00:00<?, ?files/s]"
            ],
            "application/vnd.jupyter.widget-view+json": {
              "version_major": 2,
              "version_minor": 0,
              "model_id": "55086d547e22406381045af2356112e3"
            }
          },
          "metadata": {}
        },
        {
          "output_type": "display_data",
          "data": {
            "text/plain": [
              "Generating train split: 0 examples [00:00, ? examples/s]"
            ],
            "application/vnd.jupyter.widget-view+json": {
              "version_major": 2,
              "version_minor": 0,
              "model_id": "9378f079d1474dadb44efbb645455a49"
            }
          },
          "metadata": {}
        },
        {
          "output_type": "display_data",
          "data": {
            "text/plain": [
              "Generating test split: 0 examples [00:00, ? examples/s]"
            ],
            "application/vnd.jupyter.widget-view+json": {
              "version_major": 2,
              "version_minor": 0,
              "model_id": "0bf413ff53fc4c7d89cc5d6e1566cb9d"
            }
          },
          "metadata": {}
        }
      ]
    },
    {
      "cell_type": "code",
      "source": [
        "# count files in folder and subfolders\n",
        "!find mri_data_full | wc -l"
      ],
      "metadata": {
        "colab": {
          "base_uri": "https://localhost:8080/"
        },
        "id": "1QnwRZogTuu1",
        "outputId": "3725442b-b5ab-4227-d7dd-dfee0c0a1630"
      },
      "execution_count": null,
      "outputs": [
        {
          "output_type": "stream",
          "name": "stdout",
          "text": [
            "3655\n"
          ]
        }
      ]
    },
    {
      "cell_type": "code",
      "source": [
        "# Huggingface datasets.load_data accumulates all image files in directory and\n",
        "# subdirectories and splits into train and test datasets\n",
        "print(type(data))\n",
        "#display alll key's in dictionary\n",
        "print(data.keys())\n",
        "# display the first few key value pairs from dictionary\n",
        "print(list(data.items())[:5])\n",
        "# display length of datasets.Dataset\n",
        "print(f\"Length of training dataset: {len(data['train'])}\")\n",
        "print(f\"Length of test dataset: {len(data['test'])}\")"
      ],
      "metadata": {
        "colab": {
          "base_uri": "https://localhost:8080/"
        },
        "id": "fjOYfXWsS_Jg",
        "outputId": "f98aeb62-9ece-4737-a43b-741bbc308600"
      },
      "execution_count": null,
      "outputs": [
        {
          "output_type": "stream",
          "name": "stdout",
          "text": [
            "<class 'datasets.dataset_dict.DatasetDict'>\n",
            "dict_keys(['train', 'test'])\n",
            "[('train', Dataset({\n",
            "    features: ['image', 'label'],\n",
            "    num_rows: 2934\n",
            "})), ('test', Dataset({\n",
            "    features: ['image', 'label'],\n",
            "    num_rows: 711\n",
            "}))]\n",
            "Length of training dataset: 2934\n",
            "Length of test dataset: 711\n"
          ]
        }
      ]
    },
    {
      "cell_type": "code",
      "source": [
        "# Extract and map labels from datasets onto images\n",
        "print(data[\"train\"].features[\"label\"].names)"
      ],
      "metadata": {
        "colab": {
          "base_uri": "https://localhost:8080/"
        },
        "id": "zFgKuEAQWuMD",
        "outputId": "24a6aa4e-9963-4895-aff7-d3c2f011fd71"
      },
      "execution_count": null,
      "outputs": [
        {
          "output_type": "stream",
          "name": "stdout",
          "text": [
            "['notumor', 'tumor']\n"
          ]
        }
      ]
    },
    {
      "cell_type": "markdown",
      "source": [
        "### Convert class names notumor and tumor to numerical labels"
      ],
      "metadata": {
        "id": "0ilughon8D7_"
      }
    },
    {
      "cell_type": "code",
      "source": [
        "# labels as a list of two possible values [['notumor', 'tumor']\n",
        "labels = data[\"train\"].features[\"label\"].names\n",
        "\n",
        "label2id = dict()\n",
        "id2label = dict()\n",
        "\n",
        "# create mappings between label names and indices\n",
        "for i, label in enumerate(labels):\n",
        "    label2id[label] = str(i)\n",
        "    id2label[str(i)] = label\n",
        "\n",
        "# print the label names corresponding to indices 0 and 1\n",
        "print(id2label[str(0)], id2label[str(1)])"
      ],
      "metadata": {
        "id": "Z9oDwqWX_O7n",
        "colab": {
          "base_uri": "https://localhost:8080/"
        },
        "outputId": "bec25e78-2005-48ff-9ac4-15db4fab3942"
      },
      "execution_count": null,
      "outputs": [
        {
          "output_type": "stream",
          "name": "stdout",
          "text": [
            "notumor tumor\n"
          ]
        }
      ]
    },
    {
      "cell_type": "markdown",
      "source": [
        "### Display random image from training and test sets"
      ],
      "metadata": {
        "id": "aZKymbjDtMu9"
      }
    },
    {
      "cell_type": "code",
      "source": [
        "# print dictionary key value pairs\n",
        "print(list(data.items()))"
      ],
      "metadata": {
        "colab": {
          "base_uri": "https://localhost:8080/"
        },
        "id": "X-XbBr5S-pee",
        "outputId": "1c8c47d3-43e1-432a-fd1e-7b6eebc27678"
      },
      "execution_count": null,
      "outputs": [
        {
          "output_type": "stream",
          "name": "stdout",
          "text": [
            "[('train', Dataset({\n",
            "    features: ['image', 'label'],\n",
            "    num_rows: 2934\n",
            "})), ('test', Dataset({\n",
            "    features: ['image', 'label'],\n",
            "    num_rows: 711\n",
            "}))]\n"
          ]
        }
      ]
    },
    {
      "cell_type": "code",
      "source": [
        "def display_random_image(data, ds_name, ax=None):\n",
        "  \"\"\"Function that displays a random image from the dataset on the specified axes,\n",
        "     with image's class name and integer label.\"\"\"\n",
        "\n",
        "  random_index = random.randint(0, len(data[ds_name]))\n",
        "\n",
        "  img = data[ds_name][random_index]['image']\n",
        "  img_label = data[ds_name][random_index]['label']\n",
        "  img_int_label = id2label[str(img_label)]\n",
        "\n",
        "\n",
        "  # use ax if provided, otherwise use plt\n",
        "  if ax is not None:\n",
        "    ax.axis('off')  # remove axes and ticks\n",
        "    ax.set_title(f\"{ds_name}: {img_label}, {img_int_label}\")\n",
        "    ax.imshow(img, cmap='gray')\n",
        "  else:\n",
        "    plt.axis('off')\n",
        "    plt.title(f\"{ds_name}: {img_label}, {img_int_label}\")\n",
        "    plt.imshow(img)\n",
        "    plt.show()\n",
        "\n",
        "# create a figure and subplots\n",
        "fig, axs = plt.subplots(1, 2, figsize=(10, 5))\n",
        "\n",
        "# Display random images from test and train datasets on each subplot\n",
        "display_random_image(data, \"train\", ax=axs[0])\n",
        "display_random_image(data, \"test\", ax=axs[1])\n",
        "\n",
        "# show the figure with both images\n",
        "plt.show()"
      ],
      "metadata": {
        "colab": {
          "base_uri": "https://localhost:8080/",
          "height": 411
        },
        "id": "5v3O3dqpnrMA",
        "outputId": "ca7c8948-398d-4ff0-d42b-9051ea1ea729"
      },
      "execution_count": null,
      "outputs": [
        {
          "output_type": "display_data",
          "data": {
            "text/plain": [
              "<Figure size 1000x500 with 2 Axes>"
            ],
            "image/png": "[encoded data removed]"
          },
          "metadata": {}
        }
      ]
    },
    {
      "cell_type": "code",
      "source": [
        "# get pixel size of random image in 2D, i.e. GRAYSCALE img\n",
        "random_index = random.randint(0, len(data['train']))\n",
        "img = data['train'][random_index]['image']\n",
        "# get pixel size of img as an numpy array\n",
        "np.array(img).shape"
      ],
      "metadata": {
        "id": "IZvbhPfLNDC9",
        "colab": {
          "base_uri": "https://localhost:8080/"
        },
        "outputId": "911c118e-d702-4530-bbbd-70c90e5702c9"
      },
      "execution_count": null,
      "outputs": [
        {
          "output_type": "execute_result",
          "data": {
            "text/plain": [
              "(512, 512)"
            ]
          },
          "metadata": {},
          "execution_count": 13
        }
      ]
    },
    {
      "cell_type": "markdown",
      "source": [
        "## 2. Set up ViT image processor"
      ],
      "metadata": {
        "id": "lEQoa3atpEr4"
      }
    },
    {
      "cell_type": "markdown",
      "source": [
        "From Hugging Face Transformers library load a pre-trained image processor, which can normalize images and convert them to tensors"
      ],
      "metadata": {
        "id": "AJ1Cuxhw9sSB"
      }
    },
    {
      "cell_type": "markdown",
      "source": [
        "Vit models are trained with specific transformations applied to images fed into them. Make sure the same transformations are used to pre-prcess the training and testing images; display ViTImageProcessor configuration, saved along with the pre-trained model.<br>\n",
        "Inorder to apply ViT transformations to the grapy scale images, converto to RGB"
      ],
      "metadata": {
        "id": "sOqXstKB9dgw"
      }
    },
    {
      "cell_type": "code",
      "source": [
        "from transformers import AutoImageProcessor\n",
        "\n",
        "# get the weights of the image processor\n",
        "checkpoint = \"google/vit-base-patch16-224-in21k\"\n",
        "\n",
        "# load the image processor\n",
        "processor = AutoImageProcessor.from_pretrained(checkpoint)\n",
        "print(f\"Image processor configuration:\\n {processor}\")"
      ],
      "metadata": {
        "id": "i8OpDRVDAZl-",
        "colab": {
          "base_uri": "https://localhost:8080/",
          "height": 656,
          "referenced_widgets": [
            "2d63adf02ae44002bf40c0437a81308a",
            "352e8b0d50d64ea9bba4d0015211fa9c",
            "9678ebcfe35c4eecb43d89813e41abcc",
            "52c00d49900a4b6c8e96d0cb8ba204f5",
            "e46fcba34906468c82d6cc3896a61117",
            "867f16dfe0a04fe28271b6da653c6447",
            "0308b30e6e46452f83dc8f98b3829782",
            "8749738559ca4379915e602e9192b31f",
            "424ce69e2e6e4a4fb8a92789ce8ddbd4",
            "57c83e8ae2a345ccb20112e57e2bded5",
            "0f01add57f06413db165a6b9812314b1",
            "6a4c6de3bda6488aa356472524b5d969",
            "efc752b552ba476cb4db143e96c6b380",
            "1e8f0d22c31848b5922f4c0625a0581d",
            "1fbb5156fa0348eda87dbb02f704a970",
            "8e451e27f7984991a64dcd79ff5a890a",
            "e9924305e537486587ee28d498a50dfd",
            "4d11f125fde740c59fdeb1b8ebd05d2d",
            "b4a4b72fe6374e068dfa867275a52605",
            "07504d043a4f4159ad67141eeb10b109",
            "0cf2300fdd324bc38c40364363e87c78",
            "1da06f398d9f406e813db42d31184fb9"
          ]
        },
        "outputId": "1b4e87e7-a853-459b-aa8c-60abd29f6091"
      },
      "execution_count": null,
      "outputs": [
        {
          "output_type": "stream",
          "name": "stderr",
          "text": [
            "/usr/local/lib/python3.10/dist-packages/huggingface_hub/utils/_auth.py:94: UserWarning: \n",
            "The secret `HF_TOKEN` does not exist in your Colab secrets.\n",
            "To authenticate with the Hugging Face Hub, create a token in your settings tab (https://huggingface.co/settings/tokens), set it as secret in your Google Colab and restart your session.\n",
            "You will be able to reuse this secret in all of your notebooks.\n",
            "Please note that authentication is recommended but still optional to access public models or datasets.\n",
            "  warnings.warn(\n"
          ]
        },
        {
          "output_type": "display_data",
          "data": {
            "text/plain": [
              "preprocessor_config.json:   0%|          | 0.00/160 [00:00<?, ?B/s]"
            ],
            "application/vnd.jupyter.widget-view+json": {
              "version_major": 2,
              "version_minor": 0,
              "model_id": "2d63adf02ae44002bf40c0437a81308a"
            }
          },
          "metadata": {}
        },
        {
          "output_type": "display_data",
          "data": {
            "text/plain": [
              "config.json:   0%|          | 0.00/502 [00:00<?, ?B/s]"
            ],
            "application/vnd.jupyter.widget-view+json": {
              "version_major": 2,
              "version_minor": 0,
              "model_id": "6a4c6de3bda6488aa356472524b5d969"
            }
          },
          "metadata": {}
        },
        {
          "output_type": "stream",
          "name": "stderr",
          "text": [
            "Fast image processor class <class 'transformers.models.vit.image_processing_vit_fast.ViTImageProcessorFast'> is available for this model. Using slow image processor class. To use the fast image processor class set `use_fast=True`.\n"
          ]
        },
        {
          "output_type": "stream",
          "name": "stdout",
          "text": [
            "Image processor configuration:\n",
            " ViTImageProcessor {\n",
            "  \"do_convert_rgb\": null,\n",
            "  \"do_normalize\": true,\n",
            "  \"do_rescale\": true,\n",
            "  \"do_resize\": true,\n",
            "  \"image_mean\": [\n",
            "    0.5,\n",
            "    0.5,\n",
            "    0.5\n",
            "  ],\n",
            "  \"image_processor_type\": \"ViTImageProcessor\",\n",
            "  \"image_std\": [\n",
            "    0.5,\n",
            "    0.5,\n",
            "    0.5\n",
            "  ],\n",
            "  \"resample\": 2,\n",
            "  \"rescale_factor\": 0.00392156862745098,\n",
            "  \"size\": {\n",
            "    \"height\": 224,\n",
            "    \"width\": 224\n",
            "  }\n",
            "}\n",
            "\n"
          ]
        }
      ]
    },
    {
      "cell_type": "markdown",
      "source": [
        "To process an image, pass it to the image processor's call function. This will return a dict containing pixel values, which is the numeric representation to be passed to the model."
      ],
      "metadata": {
        "id": "229fnyHj3EwO"
      }
    },
    {
      "cell_type": "code",
      "source": [
        "# process the first training image returning a torch tensors, with \"RGB\" chanel, set return_tensors=\"pt\", defaut numpy arrays\n",
        "processor(data['train'][0]['image'], return_tensors=\"pt\")\n",
        "print(f\"The shape of the image tensor: {processor(data['train'][0]['image'], return_tensors='pt')['pixel_values'].shape}\")"
      ],
      "metadata": {
        "colab": {
          "base_uri": "https://localhost:8080/"
        },
        "id": "upQ92zZqJlHl",
        "outputId": "67d2d2a2-a629-41d5-baa8-5f2e05d792c8"
      },
      "execution_count": null,
      "outputs": [
        {
          "output_type": "stream",
          "name": "stdout",
          "text": [
            "The shape of the image tensor: torch.Size([1, 3, 224, 224])\n"
          ]
        }
      ]
    },
    {
      "cell_type": "code",
      "source": [
        "print(f\"The image processor will normalize images using its mean and std parameters:\\n image processor mean = {processor.image_mean}, image processor std = {processor.image_std}\")"
      ],
      "metadata": {
        "colab": {
          "base_uri": "https://localhost:8080/"
        },
        "id": "Z9SkAFotZxfw",
        "outputId": "fc179079-c23d-46e7-b630-11ed44dbe50c"
      },
      "execution_count": null,
      "outputs": [
        {
          "output_type": "stream",
          "name": "stdout",
          "text": [
            "The image processor will normalize images using its mean and std parameters:\n",
            " image processor mean = [0.5, 0.5, 0.5], image processor std = [0.5, 0.5, 0.5]\n"
          ]
        }
      ]
    },
    {
      "cell_type": "markdown",
      "source": [
        "## 3. Data Augmentation, Normalization and Convertion into Tensors"
      ],
      "metadata": {
        "id": "ca0U2M4eaeWF"
      }
    },
    {
      "cell_type": "markdown",
      "source": [
        "### Augmantation Function"
      ],
      "metadata": {
        "id": "G5vubwNq6sh3"
      }
    },
    {
      "cell_type": "markdown",
      "source": [
        "A function that applys random flip/rotate, zoomin, crop to train, test and validate data"
      ],
      "metadata": {
        "id": "DmlLaOTkRdZF"
      }
    },
    {
      "cell_type": "code",
      "source": [
        "processor.image_mean[0]"
      ],
      "metadata": {
        "colab": {
          "base_uri": "https://localhost:8080/"
        },
        "id": "h7XSfCNe4Dcl",
        "outputId": "b2e61327-74f3-40d1-8bd5-50843b8aea4b"
      },
      "execution_count": null,
      "outputs": [
        {
          "output_type": "execute_result",
          "data": {
            "text/plain": [
              "0.5"
            ]
          },
          "metadata": {},
          "execution_count": 32
        }
      ]
    },
    {
      "cell_type": "code",
      "source": [
        "import torchvision.transforms as T\n",
        "from transformers import DefaultDataCollator # used for collating data into batches\n",
        "\n",
        "\n",
        "# set size for random resized crop, checks if the image processor\n",
        "# has a \"shortest_edge\" defined in its configuration. If so, it uses it as the\n",
        "# size. Otherwise, it uses the \"height\" and \"width\" defined in the image_processor.\n",
        "size = (\n",
        "    processor.size[\"shortest_edge\"]\n",
        "    if \"shortest_edge\" in processor.size\n",
        "    else (processor.size[\"height\"], processor.size[\"width\"])\n",
        ")\n",
        "\n",
        "# normalize images based on mean and std provided by the pretrained model,\n",
        "# use only one chanel since process data in gray scale vs RGB\n",
        "normalize = T.Normalize(\n",
        "    mean = processor.image_mean[0],\n",
        "    std = processor.image_std[0])\n",
        "\n",
        "# data augmentation for training\n",
        "train_data_augmentation = T.Compose([\n",
        "    # Resize the image before cropping to ensure it's large enough\n",
        "    T.Resize((size[0], size[1])),  # resize to (224, 224) or the shortest edge size\n",
        "    T.RandomCrop(size),\n",
        "    T.RandomHorizontalFlip(),\n",
        "    T.RandomRotation(degrees=4.57),  # approximately equivalent to factor=0.02\n",
        "    T.RandomResizedCrop(size=size, scale=(0.8, 1.2)),  # Simulating RandomZoom\n",
        "    T.ToTensor(),\n",
        "    normalize\n",
        "    ]\n",
        ")\n",
        "\n",
        "# data augmentation for validation\n",
        "val_data_augmentation = T.Compose([\n",
        "    T.CenterCrop(size),\n",
        "    T.ToTensor(),\n",
        "    normalize\n",
        "])"
      ],
      "metadata": {
        "id": "LpsGpnLsYcDD"
      },
      "execution_count": null,
      "outputs": []
    },
    {
      "cell_type": "markdown",
      "source": [
        "### Augment Datasets"
      ],
      "metadata": {
        "id": "s8OFFHwV3LZ_"
      }
    },
    {
      "cell_type": "code",
      "source": [
        "def process_train_batch(batch):\n",
        "  \"\"\" Read an bath of train images and transform them into inputs.\n",
        "      Since transformer is pre-trained on RGB images convert from gray scale\"\"\"\n",
        "  batch_inputs = [train_data_augmentation(img.convert(\"RGB\")) for img in batch['image']]\n",
        "  # return a dictionary with image and label data\n",
        "  return {'image': batch_inputs, 'labels': batch['label']}"
      ],
      "metadata": {
        "id": "02u-r5His2HK"
      },
      "execution_count": null,
      "outputs": []
    },
    {
      "cell_type": "code",
      "source": [
        "def process_val_batch(batch):\n",
        "  \"\"\" Read an bath of test images and transform them into inputs. \"\"\"\n",
        "  batch_inputs = [val_data_augmentation(img.convert(\"RGB\")) for img in batch['image']]\n",
        "  # return a dictionary with image and label data\n",
        "  return {'image': batch_inputs, 'labels': batch['label']}"
      ],
      "metadata": {
        "id": "6RVWN4WCugM1"
      },
      "execution_count": null,
      "outputs": []
    },
    {
      "cell_type": "markdown",
      "source": [
        "Transform the dataset while indexing every example in a batch"
      ],
      "metadata": {
        "id": "Ml81DFtg7y6D"
      }
    },
    {
      "cell_type": "code",
      "source": [
        "# set the transformation functions for training and validation datasets\n",
        "# NB: set_transform does sets up a function to be applied on-the-fly for example\n",
        "# during training in a DataLoader for memory efficiency\n",
        "data[\"train\"].set_transform(process_train_batch)\n",
        "data[\"test\"].set_transform(process_val_batch)"
      ],
      "metadata": {
        "id": "ydOaMjRLuzYL"
      },
      "execution_count": null,
      "outputs": []
    },
    {
      "cell_type": "code",
      "source": [
        "# pixel values of a random image should be normalized aprox between -1 and 1\n",
        "idx = random.randint(0, data['train'].num_rows-1)\n",
        "print(f\"The min value of the pixel values tensor: {data['train'][idx]['image'].min()}\")\n",
        "print(f\"The max value of the pixel values tensor: {data['train'][idx]['image'].max()}\")"
      ],
      "metadata": {
        "colab": {
          "base_uri": "https://localhost:8080/"
        },
        "id": "4bCOJ5sCoYnj",
        "outputId": "1a6f87b0-7f47-409c-d54f-60ded6626096"
      },
      "execution_count": null,
      "outputs": [
        {
          "output_type": "stream",
          "name": "stdout",
          "text": [
            "The min value of the pixel values tensor: -1.0\n",
            "The max value of the pixel values tensor: 1.0\n"
          ]
        }
      ]
    },
    {
      "cell_type": "code",
      "source": [
        "# set the data colllator which is responsible for taking a batch of transformed\n",
        "# data and assembling them into PyTorch tensors\n",
        "data_collator = DefaultDataCollator(return_tensors=\"pt\")"
      ],
      "metadata": {
        "id": "Esz9_f8t-jrj"
      },
      "execution_count": null,
      "outputs": []
    },
    {
      "cell_type": "markdown",
      "source": [
        "## 4. Classification accuracy"
      ],
      "metadata": {
        "id": "f3Ag8_mxpcA-"
      }
    },
    {
      "cell_type": "markdown",
      "source": [
        "**Confusion matrix** which describes the model performance fromm different angles: <br><br>\n",
        "\n",
        "|        | Predicted Tumor | Predicted Normal |\n",
        "| :----- | :-------------: | ---------------: |\n",
        "| Tumor  |       TP        |       FN         |\n",
        "| Normal |       FP        |       TN         |\n",
        "\n",
        "**Recall**, aka **Sensitivity** is how images withtumor were incorrectlydiagnosed <br>\n",
        "<p align=\"center\">\n",
        "$Recall$ = $\\frac{TP}{TP + FN}$ <br><br>\n",
        "</p>\n",
        "\n",
        "**Precision**, aka **Specificity** is how many of the normal images were diagnosed as tumor <br>\n",
        "<p align=\"center\">\n",
        "$Precosion$ = $\\frac{TP}{TP + FP}$ <br><br>\n",
        "</p>\n",
        "\n",
        "**F-score** summarizes the performance of a classifier with a single metric as a *harmonic mean* of recall $r$ and precision $p$: <br>\n",
        "<p align=\"center\">\n",
        "$F-score$ = $\\frac{2pr}{p + r}$\n",
        "</p>\n",
        "<br>\n",
        "High Recall means the model is good at identifing tumors on mri images. A high precision means the model is making accurate tumor predictions and isn't raising false alarms too often.A high F1 score indicates that the model is performing well in terms of both finding tumors (recall) and making accurate tumor predictions (precision)."
      ],
      "metadata": {
        "id": "WUi9WGyfhqLO"
      }
    },
    {
      "cell_type": "code",
      "source": [
        "def calculate_metrics(predictions, labels):\n",
        "    \"\"\"\n",
        "    Function to calculate accuracy, recall, precision, and F1 score, returning dictionary\n",
        "    containing these metrics.\n",
        "    \"\"\"\n",
        "\n",
        "    # Calculate True Positives (TP), False Positives (FP),\n",
        "    # True Negatives (TN), and False Negatives (FN)\n",
        "    TP = 0\n",
        "    FP = 0\n",
        "    TN = 0\n",
        "    FN = 0\n",
        "\n",
        "    for pred, true in zip(predictions, labels):\n",
        "        if pred == 1 and true == 1:\n",
        "            TP += 1\n",
        "        elif pred == 1 and true == 0:\n",
        "            FP += 1\n",
        "        elif pred == 0 and true == 0:\n",
        "            TN += 1\n",
        "        elif pred == 0 and true == 1:\n",
        "            FN += 1\n",
        "\n",
        "    # calculate accuracy, recall, precision, and F1 score\n",
        "    accuracy = (TP + TN)/(TP + FP + TN + FN) if (TP + FP + TN + FN) != 0 else 0\n",
        "    recall = TP/(TP + FN) if (TP + FN) != 0 else 0\n",
        "    precision = TP/(TP + FP) if (TP + FP) != 0 else 0\n",
        "    f1 = 2 * (precision * recall)/(precision + recall) if (precision + recall) != 0 else 0\n",
        "\n",
        "    # Return the metrics as a dictionary\n",
        "    return {\"accuracy\": accuracy, \"recall\": recall, \"precision\": precision, \"f1\": f1}\n"
      ],
      "metadata": {
        "id": "Lpscc9T7RcoX"
      },
      "execution_count": null,
      "outputs": []
    },
    {
      "cell_type": "markdown",
      "source": [
        "## 5. Load and Train ViT classification model"
      ],
      "metadata": {
        "id": "en2V3VBOpi2M"
      }
    },
    {
      "cell_type": "markdown",
      "source": [
        "ViT model consists of a BERT-like encoder and a linear classification head on top of the last hidden state of the Classification token. Each image is split into a sequence of non-overlapping patches (of resolutions like 16x16 or 32x32), which are linearly embedded, absolute position embeddings are added, and sent through a stack of encoder layers. A classification token is added at the beginning in order to get a representation of the entire image. A linear classification head can be added on top of the final hidden state in order to classify images.\n",
        "\n"
      ],
      "metadata": {
        "id": "4n1I7z77B45-"
      }
    },
    {
      "cell_type": "markdown",
      "source": [
        "### Instnatiate pre-trained ViT classification model"
      ],
      "metadata": {
        "id": "CVBYWyrtVkPa"
      }
    },
    {
      "cell_type": "code",
      "source": [
        "import torch\n",
        "from transformers import ViTForImageClassification\n",
        "\n",
        "# loading a pretrained model includes the cross-entropy loss function\n",
        "model = ViTForImageClassification.from_pretrained(\n",
        "    \"google/vit-base-patch16-224\",\n",
        "    attn_implementation=\"sdpa\",\n",
        "    num_labels=2,\n",
        "    label2id=label2id,\n",
        "    id2label=id2label,\n",
        "    ignore_mismatched_sizes=True,\n",
        ")\n",
        "\n",
        "device = torch.device(\"cuda\" if torch.cuda.is_available() else \"cpu\")\n",
        "model.to(device)"
      ],
      "metadata": {
        "id": "mip0sFzy_e5b",
        "colab": {
          "base_uri": "https://localhost:8080/",
          "height": 865,
          "referenced_widgets": [
            "0df2e5bdce6f4e11b1677be01645d093",
            "b5129aced8bc4e59aa7b5cfbca26661f",
            "89b5df0c48b14f639cc4b8a6b3a0c0ff",
            "bc77009896c540b18b57143b7e7720b8",
            "16072c2e90fd48a9b822d7d18e7d8a71",
            "62dac8a589894a51adbdd0a0d866618d",
            "ebd33a1089b04f108132d2c402f5bda7",
            "5f41229c099c465b854a5a52a6f77c83",
            "a0f4fcb985a445dc9236421a8c770876",
            "54b5e029793943ecb7bd99bb12e00bac",
            "c9296d0cf94b4949b22466c101dd05fd",
            "884f2be01df147a68a781e6404f0a535",
            "6cb30b5f0ebd40de8f943bd94233f088",
            "9766aa1cc020403ea3239524de42ddc3",
            "b08475d14f0c4c2d9083b05f2b4ae33e",
            "15536dfe8e924786998c77d0f6c4c83b",
            "2f8336501f6e4f64adcd54ecd7f69863",
            "fdabfffcbe444226b866a30cc6253816",
            "0488416a32aa4e3a9aee44edd499aba9",
            "92ada13647864e3eba94dfd8e5c371fb",
            "c2d06ab1ec514058bbaa837dd6d5ad67",
            "75c0e79b1a4346e4916f953e3d489a07"
          ]
        },
        "collapsed": true,
        "outputId": "5c3618b7-000a-413b-987b-7c35736cb305"
      },
      "execution_count": null,
      "outputs": [
        {
          "output_type": "display_data",
          "data": {
            "text/plain": [
              "config.json:   0%|          | 0.00/69.7k [00:00<?, ?B/s]"
            ],
            "application/vnd.jupyter.widget-view+json": {
              "version_major": 2,
              "version_minor": 0,
              "model_id": "0df2e5bdce6f4e11b1677be01645d093"
            }
          },
          "metadata": {}
        },
        {
          "output_type": "display_data",
          "data": {
            "text/plain": [
              "model.safetensors:   0%|          | 0.00/346M [00:00<?, ?B/s]"
            ],
            "application/vnd.jupyter.widget-view+json": {
              "version_major": 2,
              "version_minor": 0,
              "model_id": "884f2be01df147a68a781e6404f0a535"
            }
          },
          "metadata": {}
        },
        {
          "output_type": "stream",
          "name": "stderr",
          "text": [
            "Some weights of ViTForImageClassification were not initialized from the model checkpoint at google/vit-base-patch16-224 and are newly initialized because the shapes did not match:\n",
            "- classifier.bias: found shape torch.Size([1000]) in the checkpoint and torch.Size([2]) in the model instantiated\n",
            "- classifier.weight: found shape torch.Size([1000, 768]) in the checkpoint and torch.Size([2, 768]) in the model instantiated\n",
            "You should probably TRAIN this model on a down-stream task to be able to use it for predictions and inference.\n"
          ]
        },
        {
          "output_type": "execute_result",
          "data": {
            "text/plain": [
              "ViTForImageClassification(\n",
              "  (vit): ViTModel(\n",
              "    (embeddings): ViTEmbeddings(\n",
              "      (patch_embeddings): ViTPatchEmbeddings(\n",
              "        (projection): Conv2d(3, 768, kernel_size=(16, 16), stride=(16, 16))\n",
              "      )\n",
              "      (dropout): Dropout(p=0.0, inplace=False)\n",
              "    )\n",
              "    (encoder): ViTEncoder(\n",
              "      (layer): ModuleList(\n",
              "        (0-11): 12 x ViTLayer(\n",
              "          (attention): ViTSdpaAttention(\n",
              "            (attention): ViTSdpaSelfAttention(\n",
              "              (query): Linear(in_features=768, out_features=768, bias=True)\n",
              "              (key): Linear(in_features=768, out_features=768, bias=True)\n",
              "              (value): Linear(in_features=768, out_features=768, bias=True)\n",
              "              (dropout): Dropout(p=0.0, inplace=False)\n",
              "            )\n",
              "            (output): ViTSelfOutput(\n",
              "              (dense): Linear(in_features=768, out_features=768, bias=True)\n",
              "              (dropout): Dropout(p=0.0, inplace=False)\n",
              "            )\n",
              "          )\n",
              "          (intermediate): ViTIntermediate(\n",
              "            (dense): Linear(in_features=768, out_features=3072, bias=True)\n",
              "            (intermediate_act_fn): GELUActivation()\n",
              "          )\n",
              "          (output): ViTOutput(\n",
              "            (dense): Linear(in_features=3072, out_features=768, bias=True)\n",
              "            (dropout): Dropout(p=0.0, inplace=False)\n",
              "          )\n",
              "          (layernorm_before): LayerNorm((768,), eps=1e-12, elementwise_affine=True)\n",
              "          (layernorm_after): LayerNorm((768,), eps=1e-12, elementwise_affine=True)\n",
              "        )\n",
              "      )\n",
              "    )\n",
              "    (layernorm): LayerNorm((768,), eps=1e-12, elementwise_affine=True)\n",
              "  )\n",
              "  (classifier): Linear(in_features=768, out_features=2, bias=True)\n",
              ")"
            ]
          },
          "metadata": {},
          "execution_count": 54
        }
      ]
    },
    {
      "cell_type": "markdown",
      "source": [
        "### Set up optimizer and a learning rate schedule"
      ],
      "metadata": {
        "id": "wUdaaynVWBX-"
      }
    },
    {
      "cell_type": "code",
      "source": [
        "from transformers import AdamW, get_linear_schedule_with_warmup\n",
        "from transformers import create_optimizer\n",
        "\n",
        "batch_size = 64 #32 #16\n",
        "num_epochs = 3\n",
        "# calculate num_training_steps as the number of batches,\n",
        "# an integer (floor) division by the batch_size, times the num_epochs\n",
        "num_training_steps = (len(data['train'])//batch_size) * num_epochs\n",
        "learning_rate = 3e-5\n",
        "weight_decay_rate = 0.01\n",
        "\n",
        "\n",
        "# create optimizer and learning rate schedule\n",
        "#optimizer, lr_schedule = create_optimizer(\n",
        "    #init_lr = learning_rate,\n",
        "    #num_train_steps = num_training_steps,\n",
        "    #weight_decay_rate = weight_decay_rate,\n",
        "    #num_warmup_steps = 0\n",
        "#)\n",
        "\n",
        "# Use AdamW instead of create_optimizer\n",
        "optimizer = AdamW(model.parameters(),\n",
        "                  lr = learning_rate,\n",
        "                  weight_decay = weight_decay_rate)\n",
        "\n",
        "scheduler = get_linear_schedule_with_warmup(\n",
        "    optimizer,\n",
        "    num_warmup_steps=0,\n",
        "    num_training_steps=num_training_steps)"
      ],
      "metadata": {
        "id": "wgEZB3CRHSFJ",
        "colab": {
          "base_uri": "https://localhost:8080/"
        },
        "outputId": "105ec056-fae8-4bf3-c0f3-ee82ae641064"
      },
      "execution_count": null,
      "outputs": [
        {
          "output_type": "stream",
          "name": "stderr",
          "text": [
            "/usr/local/lib/python3.10/dist-packages/transformers/optimization.py:591: FutureWarning: This implementation of AdamW is deprecated and will be removed in a future version. Use the PyTorch implementation torch.optim.AdamW instead, or set `no_deprecation_warning=True` to disable this warning\n",
            "  warnings.warn(\n"
          ]
        }
      ]
    },
    {
      "cell_type": "code",
      "source": [
        "print(f\"Number of training steps is {(len(data['train'])//batch_size) * num_epochs}\")"
      ],
      "metadata": {
        "colab": {
          "base_uri": "https://localhost:8080/"
        },
        "id": "BAJ7dSvPyZkw",
        "outputId": "0b45627d-d4f1-4ee1-bdd5-58959d17b03c"
      },
      "execution_count": null,
      "outputs": [
        {
          "output_type": "stream",
          "name": "stdout",
          "text": [
            "Number of training steps is 2745\n"
          ]
        }
      ]
    },
    {
      "cell_type": "markdown",
      "source": [
        "### Forward pass the training data"
      ],
      "metadata": {
        "id": "3u1sdycgHZjQ"
      }
    },
    {
      "cell_type": "markdown",
      "source": [
        "### TensorBoard callbacks"
      ],
      "metadata": {
        "id": "eWEXT0KMWM-c"
      }
    },
    {
      "cell_type": "code",
      "source": [
        "from torch.utils.tensorboard import SummaryWriter"
      ],
      "metadata": {
        "id": "qfSP1rB4Q0Cc"
      },
      "execution_count": null,
      "outputs": []
    },
    {
      "cell_type": "code",
      "source": [
        "# create a TensorBoard SummaryWriter\n",
        "writer = SummaryWriter()"
      ],
      "metadata": {
        "id": "LHlmsMKtQ-YZ"
      },
      "execution_count": null,
      "outputs": []
    },
    {
      "cell_type": "markdown",
      "source": [
        "### Run training"
      ],
      "metadata": {
        "id": "6AKz1qBUWS3A"
      }
    },
    {
      "cell_type": "code",
      "source": [
        "from torch.utils.data import DataLoader\n",
        "import torch.nn.functional as F\n",
        "\n",
        "# Lazy transformation happens on the fly right before the batch is\n",
        "# requested by the DataLoader, i.e. the original dataset remains unchanged\n",
        "# the tranformed data can be access through the keys in the batch dictionary\n",
        "train_loader = DataLoader(data['train'], batch_size=batch_size, shuffle=True)\n",
        "\n",
        "for epoch in range(num_epochs):\n",
        "  # Initialize lists to store predictions and labels for the epoch\n",
        "    all_predictions = []\n",
        "    all_labels = []\n",
        "    print(f\"======================= Epoch: {epoch + 1} ========================\")\n",
        "    print()\n",
        "\n",
        "    #for batch in train_loader:\n",
        "    for batch_index, batch in enumerate(train_loader):\n",
        "        # access the preprocessed pixel values\n",
        "        inputs = batch['image'].to(device)\n",
        "        labels = batch['labels'].to(device)\n",
        "\n",
        "        optimizer.zero_grad()\n",
        "        # providing the labels to the model call, it callulates the loss using\n",
        "        # the default loss used to pre-trained, the outputs obj contains the loss\n",
        "        # outputs = model(pixel_values=inputs, labels=labels)\n",
        "        # models calculates the loss based on raw outputs before softmax (logits) and the true labels\n",
        "        # loss = outputs.loss\n",
        "\n",
        "        outputs = model(pixel_values=inputs)\n",
        "        # compute loss explicitly\n",
        "        loss = F.cross_entropy(outputs.logits, labels)\n",
        "\n",
        "        # print out the loss\n",
        "        print(f\"Batch number: {batch_index} Loss: {loss.item()}\")\n",
        "        # backpropagate the loss\n",
        "        loss.backward()\n",
        "        optimizer.step()\n",
        "        scheduler.step()\n",
        "\n",
        "        # gather predictions for the batch\n",
        "        _, preds = torch.max(outputs.logits, 1)\n",
        "        all_predictions.extend(preds.cpu().numpy())\n",
        "        all_labels.extend(labels.cpu().numpy())\n",
        "\n",
        "    # for each epoch calculate evaluation metrics with custom function\n",
        "    metrics = calculate_metrics(all_predictions, all_labels)\n",
        "    print()\n",
        "    for key, value in metrics.items():\n",
        "      # log metrics to TensorBoard\n",
        "      writer.add_scalar(f'Metrics/{key}', value, epoch)\n",
        "      print(f'{key}, {value:.4}')\n",
        "\n",
        "\n",
        "    #print(f\"accucary: {metrics['accuracy']:.4f}, recall:, {metrics['recall']:.4f}, precision:, {metrics['precision']:.4f}, f1:, {metrics['f1']:.4f}\")\n"
      ],
      "metadata": {
        "id": "ualiJt6NHYz3",
        "colab": {
          "base_uri": "https://localhost:8080/"
        },
        "outputId": "78392382-d7a9-4c14-fdca-0bae36f7ec3c",
        "collapsed": true
      },
      "execution_count": null,
      "outputs": [
        {
          "output_type": "stream",
          "name": "stdout",
          "text": [
            "======================= Epoch: 1 ========================\n",
            "\n",
            "Batch number: 0 Loss: 0.0007114278269000351\n",
            "Batch number: 1 Loss: 0.0004093907482456416\n",
            "Batch number: 2 Loss: 0.0004975922638550401\n",
            "Batch number: 3 Loss: 0.0014605087926611304\n",
            "Batch number: 4 Loss: 0.0005424857372418046\n",
            "Batch number: 5 Loss: 0.0010873973369598389\n",
            "Batch number: 6 Loss: 0.047452136874198914\n",
            "Batch number: 7 Loss: 0.00029744379571639\n",
            "Batch number: 8 Loss: 0.09825696796178818\n",
            "Batch number: 9 Loss: 0.0011724040377885103\n",
            "Batch number: 10 Loss: 0.00026084398268722\n",
            "Batch number: 11 Loss: 0.00020003123790957034\n",
            "Batch number: 12 Loss: 0.0004887999384663999\n",
            "Batch number: 13 Loss: 0.0003841007128357887\n",
            "Batch number: 14 Loss: 0.0027933793608099222\n",
            "Batch number: 15 Loss: 0.0005044410354457796\n",
            "Batch number: 16 Loss: 0.0002163474855478853\n",
            "Batch number: 17 Loss: 0.008873672224581242\n",
            "Batch number: 18 Loss: 0.00037105512456037104\n",
            "Batch number: 19 Loss: 0.0002003865665756166\n",
            "Batch number: 20 Loss: 0.0004513020103331655\n",
            "Batch number: 21 Loss: 0.0036128631327301264\n",
            "Batch number: 22 Loss: 0.00018594998982734978\n",
            "Batch number: 23 Loss: 0.0036330840084701777\n",
            "Batch number: 24 Loss: 0.03533478453755379\n",
            "Batch number: 25 Loss: 0.000313231983454898\n",
            "Batch number: 26 Loss: 0.0002626348868943751\n",
            "Batch number: 27 Loss: 0.0008778040064498782\n",
            "Batch number: 28 Loss: 0.0007854347350075841\n",
            "Batch number: 29 Loss: 0.0007408717065118253\n",
            "Batch number: 30 Loss: 0.0010540426010265946\n",
            "Batch number: 31 Loss: 0.011935400776565075\n",
            "Batch number: 32 Loss: 0.00035956836654804647\n",
            "Batch number: 33 Loss: 0.0004053657758049667\n",
            "Batch number: 34 Loss: 0.0015672618756070733\n",
            "Batch number: 35 Loss: 0.002399623626843095\n",
            "Batch number: 36 Loss: 0.00029417622135952115\n",
            "Batch number: 37 Loss: 0.010731503367424011\n",
            "Batch number: 38 Loss: 0.00034063923521898687\n",
            "Batch number: 39 Loss: 0.0004267650656402111\n",
            "Batch number: 40 Loss: 0.00022520926722791046\n",
            "Batch number: 41 Loss: 0.0007383400807157159\n",
            "Batch number: 42 Loss: 0.0004824005882255733\n",
            "Batch number: 43 Loss: 0.00038866899558342993\n",
            "Batch number: 44 Loss: 0.0008824250544421375\n",
            "Batch number: 45 Loss: 0.00018970041128341109\n",
            "accuracy, 0.9986\n",
            "recall, 0.9978\n",
            "precision, 0.9993\n",
            "f1, 0.9985\n",
            "======================= Epoch: 2 ========================\n",
            "\n",
            "Batch number: 0 Loss: 0.0004661222919821739\n",
            "Batch number: 1 Loss: 0.0018941608723253012\n",
            "Batch number: 2 Loss: 0.000292753305984661\n",
            "Batch number: 3 Loss: 0.02369946427643299\n",
            "Batch number: 4 Loss: 0.0002732371794991195\n",
            "Batch number: 5 Loss: 0.0027357765939086676\n",
            "Batch number: 6 Loss: 0.0003859122225549072\n",
            "Batch number: 7 Loss: 0.00035912872408516705\n",
            "Batch number: 8 Loss: 0.00039409592864103615\n",
            "Batch number: 9 Loss: 0.0004895136225968599\n",
            "Batch number: 10 Loss: 0.0006906617782078683\n",
            "Batch number: 11 Loss: 0.0010646694572642446\n",
            "Batch number: 12 Loss: 0.00012519891606643796\n",
            "Batch number: 13 Loss: 0.00030743752722628415\n",
            "Batch number: 14 Loss: 0.000312321208184585\n",
            "Batch number: 15 Loss: 0.0003696545900311321\n",
            "Batch number: 16 Loss: 0.0001861313357949257\n",
            "Batch number: 17 Loss: 0.00019954232266172767\n",
            "Batch number: 18 Loss: 0.0019357551354914904\n",
            "Batch number: 19 Loss: 0.0017020311206579208\n",
            "Batch number: 20 Loss: 0.00023554038489237428\n",
            "Batch number: 21 Loss: 0.00026582690770737827\n",
            "Batch number: 22 Loss: 0.0002472311316523701\n",
            "Batch number: 23 Loss: 0.0005353305605240166\n",
            "Batch number: 24 Loss: 0.00019792428065557033\n",
            "Batch number: 25 Loss: 0.0002975458628498018\n",
            "Batch number: 26 Loss: 0.000683038670103997\n",
            "Batch number: 27 Loss: 0.0003560943005140871\n",
            "Batch number: 28 Loss: 0.00038748446968384087\n",
            "Batch number: 29 Loss: 0.0006176643073558807\n",
            "Batch number: 30 Loss: 0.0012709463480859995\n",
            "Batch number: 31 Loss: 0.00025148881832137704\n",
            "Batch number: 32 Loss: 0.00031276885420084\n",
            "Batch number: 33 Loss: 0.000610429618973285\n",
            "Batch number: 34 Loss: 0.0005907689337618649\n",
            "Batch number: 35 Loss: 0.0014301016926765442\n",
            "Batch number: 36 Loss: 0.0008127385517582297\n",
            "Batch number: 37 Loss: 0.0011133812367916107\n",
            "Batch number: 38 Loss: 0.0012692527379840612\n",
            "Batch number: 39 Loss: 0.00015500307199545205\n",
            "Batch number: 40 Loss: 0.00042836053762584925\n",
            "Batch number: 41 Loss: 0.0021307296119630337\n",
            "Batch number: 42 Loss: 0.0010800434974953532\n",
            "Batch number: 43 Loss: 0.00022597165661863983\n",
            "Batch number: 44 Loss: 0.00016700380365364254\n",
            "Batch number: 45 Loss: 0.00035617599496617913\n",
            "accuracy, 0.9997\n",
            "recall, 1.0\n",
            "precision, 0.9993\n",
            "f1, 0.9996\n",
            "======================= Epoch: 3 ========================\n",
            "\n",
            "Batch number: 0 Loss: 0.00036585170892067254\n",
            "Batch number: 1 Loss: 0.00020926517026964575\n",
            "Batch number: 2 Loss: 0.0005543921142816544\n",
            "Batch number: 3 Loss: 0.0008089945768006146\n",
            "Batch number: 4 Loss: 0.00026039150543510914\n",
            "Batch number: 5 Loss: 0.0006456987466663122\n",
            "Batch number: 6 Loss: 0.00023590773344039917\n",
            "Batch number: 7 Loss: 0.0037524676881730556\n",
            "Batch number: 8 Loss: 0.00030042300932109356\n",
            "Batch number: 9 Loss: 0.0003390682104509324\n",
            "Batch number: 10 Loss: 0.00033615983556956053\n",
            "Batch number: 11 Loss: 0.0001953335158759728\n",
            "Batch number: 12 Loss: 0.00043694203486666083\n",
            "Batch number: 13 Loss: 0.0001931992155732587\n",
            "Batch number: 14 Loss: 0.00039538677083328366\n",
            "Batch number: 15 Loss: 0.0002907601883634925\n",
            "Batch number: 16 Loss: 0.0009599881013855338\n",
            "Batch number: 17 Loss: 0.0004944781539961696\n",
            "Batch number: 18 Loss: 0.00018276979972142726\n",
            "Batch number: 19 Loss: 0.00016263601719401777\n",
            "Batch number: 20 Loss: 0.0005368527490645647\n",
            "Batch number: 21 Loss: 0.00017695216229185462\n",
            "Batch number: 22 Loss: 0.007422139402478933\n",
            "Batch number: 23 Loss: 0.0018669305136427283\n",
            "Batch number: 24 Loss: 0.00047505737165920436\n",
            "Batch number: 25 Loss: 0.0005808723508380353\n",
            "Batch number: 26 Loss: 0.00024470596690662205\n",
            "Batch number: 27 Loss: 0.00044095725752413273\n",
            "Batch number: 28 Loss: 0.00015327695291489363\n",
            "Batch number: 29 Loss: 0.0003157095634378493\n",
            "Batch number: 30 Loss: 0.0004300287691876292\n",
            "Batch number: 31 Loss: 0.00035138954990543425\n",
            "Batch number: 32 Loss: 0.000999511918053031\n",
            "Batch number: 33 Loss: 0.00029248217470012605\n",
            "Batch number: 34 Loss: 0.0003309708263259381\n",
            "Batch number: 35 Loss: 0.0003278853837400675\n",
            "Batch number: 36 Loss: 0.0020408881828188896\n",
            "Batch number: 37 Loss: 0.00013840799510944635\n",
            "Batch number: 38 Loss: 0.001665772288106382\n",
            "Batch number: 39 Loss: 0.0007011030102148652\n",
            "Batch number: 40 Loss: 0.0005150551442056894\n",
            "Batch number: 41 Loss: 0.0003023900790140033\n",
            "Batch number: 42 Loss: 0.00024280848447233438\n",
            "Batch number: 43 Loss: 0.00023598172992933542\n",
            "Batch number: 44 Loss: 0.0015027232002466917\n",
            "Batch number: 45 Loss: 0.00021597862360067666\n",
            "accuracy, 1.0\n",
            "recall, 1.0\n",
            "precision, 1.0\n",
            "f1, 1.0\n"
          ]
        }
      ]
    },
    {
      "cell_type": "code",
      "source": [
        "# save model parameters\n",
        "torch.save(model.state_dict(), 'model_parameters.pth')\n",
        "# load trained model parameters\n",
        "model.load_state_dict(torch.load('model_parameters.pth'))"
      ],
      "metadata": {
        "id": "4fqqDh1zXGOU"
      },
      "execution_count": null,
      "outputs": []
    },
    {
      "cell_type": "code",
      "source": [
        "# after ot during training loop start TensorBoard to view logged data\n",
        "%load_ext tensorboard\n",
        "%tensorboard --logdir runs"
      ],
      "metadata": {
        "id": "kHWlWN_oRoSI"
      },
      "execution_count": null,
      "outputs": []
    },
    {
      "cell_type": "markdown",
      "source": [
        "### Run the model on test data"
      ],
      "metadata": {
        "id": "Q2MpMrr1PsDO"
      }
    },
    {
      "cell_type": "markdown",
      "source": [
        "The model is set to evaluation mode with model.eval(). The code iterates through the test_loader, gets the model's predictions, and stores them along with the true labels."
      ],
      "metadata": {
        "id": "chYILdLCQT4u"
      }
    },
    {
      "cell_type": "code",
      "source": [
        "# create the test data loader\n",
        "test_loader = DataLoader(data['test'], batch_size=batch_size, shuffle=False)\n",
        "\n",
        "# run inference on the test data\n",
        "all_predictions = []\n",
        "all_labels = []\n",
        "# set the model to evaluation mode\n",
        "model.eval()\n",
        "# disable gradient calculation during inference\n",
        "with torch.no_grad():\n",
        "    for batch in test_loader:\n",
        "        inputs = batch['image'].to(device)\n",
        "        labels = batch['labels'].to(device)\n",
        "\n",
        "        outputs = model(pixel_values=inputs, labels=labels)\n",
        "        _, preds = torch.max(outputs.logits, 1)\n",
        "\n",
        "        all_predictions.extend(preds.cpu().numpy())\n",
        "        all_labels.extend(labels.cpu().numpy())\n",
        "\n",
        "metrics = calculate_metrics(all_predictions, all_labels)\n",
        "\n",
        "for key, value in metrics.items():\n",
        "  writer.add_scalar(f'Metrics/{key}', value, epoch)\n",
        "  print(f'{key}, {value:.4}')\n",
        "\n",
        "\n",
        "#print(f\"Testing Accucary: {metrics['accuracy']:.4f}, Testing Recall:, {metrics['recall']:.4f}, Testing Precision:, {metrics['precision']:.4f}, Testing F1 score:, {metrics['f1']:.4f}\")\n",
        "print(all_predictions[:10])\n",
        "print(all_labels[:10])\n"
      ],
      "metadata": {
        "id": "LIsMabstPN7O",
        "colab": {
          "base_uri": "https://localhost:8080/"
        },
        "outputId": "ed7867ac-e470-44e5-a234-f690301d9f0c"
      },
      "execution_count": null,
      "outputs": [
        {
          "output_type": "stream",
          "name": "stdout",
          "text": [
            "accuracy, 0.9705\n",
            "recall, 0.9314\n",
            "precision, 1.0\n",
            "f1, 0.9645\n",
            "[0, 0, 0, 0, 0, 0, 0, 0, 0, 0]\n",
            "[0, 0, 0, 0, 0, 0, 0, 0, 0, 0]\n"
          ]
        }
      ]
    },
    {
      "cell_type": "markdown",
      "source": [
        "### Compute and plot confusion matrix"
      ],
      "metadata": {
        "id": "S57IAsEqA3Hl"
      }
    },
    {
      "cell_type": "code",
      "source": [
        "import seaborn as sns\n",
        "import matplotlib.pyplot as plt\n",
        "from sklearn.metrics import confusion_matrix\n",
        "\n",
        "cm = confusion_matrix(all_labels, all_predictions)\n",
        "\n",
        "plt.figure(figsize=(6, 4))\n",
        "sns.heatmap(cm, annot=True, fmt=\"d\", cmap=\"Blues\", cbar=False,\n",
        "            xticklabels=['Normal', 'Tumor'], yticklabels=['Normal', 'Tumor'])\n",
        "\n",
        "plt.xlabel(\"Predicted Label\")\n",
        "plt.ylabel(\"True Label\")\n",
        "plt.title(\"Confusion Matrix\")\n",
        "plt.show()"
      ],
      "metadata": {
        "colab": {
          "base_uri": "https://localhost:8080/",
          "height": 410
        },
        "collapsed": true,
        "id": "bMYOmnYS4rY6",
        "outputId": "6192e62b-bafa-43c3-d8f0-986d28e6f167"
      },
      "execution_count": null,
      "outputs": [
        {
          "output_type": "display_data",
          "data": {
            "text/plain": [
              "<Figure size 600x400 with 1 Axes>"
            ],
            "image/png": "[encoded data removed]"
          },
          "metadata": {}
        }
      ]
    },
    {
      "cell_type": "markdown",
      "source": [
        "## 6. Display images with true and predicted labels"
      ],
      "metadata": {
        "id": "R__SPPavpsPd"
      }
    },
    {
      "cell_type": "code",
      "source": [
        "data['test'][1]['image']"
      ],
      "metadata": {
        "colab": {
          "base_uri": "https://localhost:8080/"
        },
        "id": "WiWu8Z7Z_gWh",
        "outputId": "8ded0041-366c-4ca2-db8f-ee6054168093"
      },
      "execution_count": null,
      "outputs": [
        {
          "output_type": "execute_result",
          "data": {
            "text/plain": [
              "tensor([[[-0.8824, -0.8824, -0.8745,  ..., -0.8745, -0.8745, -0.8745],\n",
              "         [-0.8824, -0.8824, -0.8745,  ..., -0.8745, -0.8745, -0.8745],\n",
              "         [-0.8824, -0.8824, -0.8745,  ..., -0.8745, -0.8745, -0.8745],\n",
              "         ...,\n",
              "         [-0.8824, -0.8824, -0.8824,  ..., -0.8980, -0.8980, -0.8902],\n",
              "         [-0.8902, -0.8980, -0.8902,  ..., -0.8824, -0.8824, -0.8902],\n",
              "         [-0.8902, -0.8902, -0.8902,  ..., -0.8824, -0.8824, -0.8902]],\n",
              "\n",
              "        [[-0.8824, -0.8824, -0.8745,  ..., -0.8745, -0.8745, -0.8745],\n",
              "         [-0.8824, -0.8824, -0.8745,  ..., -0.8745, -0.8745, -0.8745],\n",
              "         [-0.8824, -0.8824, -0.8745,  ..., -0.8745, -0.8745, -0.8745],\n",
              "         ...,\n",
              "         [-0.8824, -0.8824, -0.8824,  ..., -0.8980, -0.8980, -0.8902],\n",
              "         [-0.8902, -0.8980, -0.8902,  ..., -0.8824, -0.8824, -0.8902],\n",
              "         [-0.8902, -0.8902, -0.8902,  ..., -0.8824, -0.8824, -0.8902]],\n",
              "\n",
              "        [[-0.8824, -0.8824, -0.8745,  ..., -0.8745, -0.8745, -0.8745],\n",
              "         [-0.8824, -0.8824, -0.8745,  ..., -0.8745, -0.8745, -0.8745],\n",
              "         [-0.8824, -0.8824, -0.8745,  ..., -0.8745, -0.8745, -0.8745],\n",
              "         ...,\n",
              "         [-0.8824, -0.8824, -0.8824,  ..., -0.8980, -0.8980, -0.8902],\n",
              "         [-0.8902, -0.8980, -0.8902,  ..., -0.8824, -0.8824, -0.8902],\n",
              "         [-0.8902, -0.8902, -0.8902,  ..., -0.8824, -0.8824, -0.8902]]])"
            ]
          },
          "metadata": {},
          "execution_count": 132
        }
      ]
    },
    {
      "cell_type": "code",
      "execution_count": null,
      "metadata": {
        "id": "m6jZ85McoA2z",
        "colab": {
          "base_uri": "https://localhost:8080/",
          "height": 1000
        },
        "outputId": "04f36b07-9c77-4308-ae01-8e61b030ec6c"
      },
      "outputs": [
        {
          "output_type": "stream",
          "name": "stderr",
          "text": [
            "WARNING:matplotlib.image:Clipping input data to the valid range for imshow with RGB data ([0..1] for floats or [0..255] for integers).\n",
            "WARNING:matplotlib.image:Clipping input data to the valid range for imshow with RGB data ([0..1] for floats or [0..255] for integers).\n",
            "WARNING:matplotlib.image:Clipping input data to the valid range for imshow with RGB data ([0..1] for floats or [0..255] for integers).\n",
            "WARNING:matplotlib.image:Clipping input data to the valid range for imshow with RGB data ([0..1] for floats or [0..255] for integers).\n",
            "WARNING:matplotlib.image:Clipping input data to the valid range for imshow with RGB data ([0..1] for floats or [0..255] for integers).\n",
            "WARNING:matplotlib.image:Clipping input data to the valid range for imshow with RGB data ([0..1] for floats or [0..255] for integers).\n",
            "WARNING:matplotlib.image:Clipping input data to the valid range for imshow with RGB data ([0..1] for floats or [0..255] for integers).\n",
            "WARNING:matplotlib.image:Clipping input data to the valid range for imshow with RGB data ([0..1] for floats or [0..255] for integers).\n"
          ]
        },
        {
          "output_type": "stream",
          "name": "stdout",
          "text": [
            "indices: [349, 441, 210, 445, 646, 220, 411, 628, 638]\n"
          ]
        },
        {
          "output_type": "stream",
          "name": "stderr",
          "text": [
            "WARNING:matplotlib.image:Clipping input data to the valid range for imshow with RGB data ([0..1] for floats or [0..255] for integers).\n"
          ]
        },
        {
          "output_type": "display_data",
          "data": {
            "text/plain": [
              "<Figure size 1200x1200 with 9 Axes>"
            ],
            "image/png": "[encoded data removed]"
          },
          "metadata": {}
        }
      ],
      "source": [
        "# Create lists to store predicted and actual labels\n",
        "pred_op = []\n",
        "act_op = []\n",
        "\n",
        "# plot 9 random test images with their predicted and actual labels\n",
        "fig, axs = plt.subplots(3, 3, figsize=(12, 12))\n",
        "axs = axs.ravel()  # Flatten the axes array\n",
        "\n",
        "num_samples = 9\n",
        "# take 9 unique image sample from test data\n",
        "indices = random.sample(range(len(data['test'])), num_samples)\n",
        "print(\"indices:\", indices)\n",
        "\n",
        "for i, idx in enumerate(indices):\n",
        "    image = data['test'][idx]['image']\n",
        "    true_label = data['test'][idx]['labels']\n",
        "\n",
        "    predicted_label = all_predictions[idx]\n",
        "\n",
        "    pred_op.append(predicted_label)\n",
        "    act_op.append(true_label)\n",
        "\n",
        "    # Convert the image to a NumPy array and permute the dimensions\n",
        "    image_np = image.permute(1, 2, 0).cpu().numpy()\n",
        "\n",
        "    axs[i].imshow(image_np)\n",
        "    axs[i].set_title(f\"True: {true_label}\\nPredicted: {predicted_label}\")\n",
        "    axs[i].axis('off')\n",
        "\n",
        "plt.tight_layout()\n",
        "plt.show()"
      ]
    }
  ]
}